{
 "cells": [
  {
   "cell_type": "markdown",
   "id": "45c1da01-676d-4693-ad43-746575285746",
   "metadata": {},
   "source": [
    "# Exploratory Notebook\n",
    "\n",
    "- Test Database Utility Functions\n",
    "- Test API Service\n",
    "- Explore Results\n",
    "_____"
   ]
  },
  {
   "cell_type": "code",
   "execution_count": 1,
   "id": "037d0ce1-e125-4199-82eb-999a976e98a6",
   "metadata": {},
   "outputs": [
    {
     "name": "stdout",
     "output_type": "stream",
     "text": [
      "/Users/tracesmith/Desktop/Trace/Coding/user-recommender\n"
     ]
    }
   ],
   "source": [
    "%cd ../"
   ]
  },
  {
   "cell_type": "code",
   "execution_count": 2,
   "id": "160aad10-3e3e-44f0-b2a8-85c35fbeb090",
   "metadata": {},
   "outputs": [],
   "source": [
    "%load_ext autoreload\n",
    "import os\n",
    "import pandas as pd"
   ]
  },
  {
   "cell_type": "markdown",
   "id": "959ec42b-a890-45d1-9583-53a785dc29b6",
   "metadata": {},
   "source": [
    "### Test Database (SQLite3)"
   ]
  },
  {
   "cell_type": "code",
   "execution_count": 121,
   "id": "9144ca15-d45d-4469-9007-4d0014fb3e3d",
   "metadata": {},
   "outputs": [],
   "source": [
    "%autoreload\n",
    "from recommender.database import utils as db_main\n",
    "from recommender.database.manager import DatabaseManager"
   ]
  },
  {
   "cell_type": "code",
   "execution_count": 19,
   "id": "32d8c936-f6bc-4ff1-9e71-686ad5f539bb",
   "metadata": {},
   "outputs": [],
   "source": [
    "%autoreload\n",
    "# Populate Data\n",
    "db_main.ingest_raw_data('dev')"
   ]
  },
  {
   "cell_type": "code",
   "execution_count": 4,
   "id": "f7568b37-ac96-44fa-8440-c93a01915d04",
   "metadata": {},
   "outputs": [
    {
     "data": {
      "text/html": [
       "<div>\n",
       "<style scoped>\n",
       "    .dataframe tbody tr th:only-of-type {\n",
       "        vertical-align: middle;\n",
       "    }\n",
       "\n",
       "    .dataframe tbody tr th {\n",
       "        vertical-align: top;\n",
       "    }\n",
       "\n",
       "    .dataframe thead th {\n",
       "        text-align: right;\n",
       "    }\n",
       "</style>\n",
       "<table border=\"1\" class=\"dataframe\">\n",
       "  <thead>\n",
       "    <tr style=\"text-align: right;\">\n",
       "      <th></th>\n",
       "      <th>course_id</th>\n",
       "      <th>course_tags</th>\n",
       "    </tr>\n",
       "  </thead>\n",
       "  <tbody>\n",
       "    <tr>\n",
       "      <th>0</th>\n",
       "      <td>12-principles-animation-toon-boom-harmony-1475</td>\n",
       "      <td>2d-animation</td>\n",
       "    </tr>\n",
       "    <tr>\n",
       "      <th>1</th>\n",
       "      <td>2d-racing-game-series-unity-5-1312</td>\n",
       "      <td>game-design</td>\n",
       "    </tr>\n",
       "    <tr>\n",
       "      <th>2</th>\n",
       "      <td>2d-racing-games-unity-volume-2-1286</td>\n",
       "      <td>game-art</td>\n",
       "    </tr>\n",
       "    <tr>\n",
       "      <th>3</th>\n",
       "      <td>2d-racing-games-unity-volume-2-1286</td>\n",
       "      <td>digital-painting</td>\n",
       "    </tr>\n",
       "    <tr>\n",
       "      <th>4</th>\n",
       "      <td>2d-racing-games-unity-volume-2-1286</td>\n",
       "      <td>image-editing</td>\n",
       "    </tr>\n",
       "  </tbody>\n",
       "</table>\n",
       "</div>"
      ],
      "text/plain": [
       "                                        course_id       course_tags\n",
       "0  12-principles-animation-toon-boom-harmony-1475      2d-animation\n",
       "1              2d-racing-game-series-unity-5-1312       game-design\n",
       "2             2d-racing-games-unity-volume-2-1286          game-art\n",
       "3             2d-racing-games-unity-volume-2-1286  digital-painting\n",
       "4             2d-racing-games-unity-volume-2-1286     image-editing"
      ]
     },
     "execution_count": 4,
     "metadata": {},
     "output_type": "execute_result"
    }
   ],
   "source": [
    "%autoreload\n",
    "# Check Populated Data\n",
    "df_check_tags = db_main.read_table('dev', f\"select * from course_tags\")\n",
    "df_check_tags.head()"
   ]
  },
  {
   "cell_type": "code",
   "execution_count": 122,
   "id": "a1da329c-4e75-44ca-af05-5a6cef927630",
   "metadata": {},
   "outputs": [],
   "source": [
    "%autoreload\n",
    "# Create Table for Similarity Results -> matrix factorization\n",
    "db_main.create_ranking_table_mf('dev','user_ranking_mf', top_n=5)"
   ]
  },
  {
   "cell_type": "code",
   "execution_count": 36,
   "id": "9e3e9926-eabc-43b1-a886-6f348a024620",
   "metadata": {},
   "outputs": [],
   "source": [
    "%autoreload\n",
    "# Create Table for Similarity Results\n",
    "db_main.create_ranking_table('dev','user_ranking', top_n=5)"
   ]
  },
  {
   "cell_type": "code",
   "execution_count": 30,
   "id": "3d78add7-a7e6-497f-96fc-2f0c132641c1",
   "metadata": {},
   "outputs": [],
   "source": [
    "# Sample Data\n",
    "df_test = pd.DataFrame({'user_handle':['110','110','111','111'],\n",
    "                        'user_match': ['112','113','157','145'],\n",
    "                        'similarity': ['80.2','20.8','52.0','48.0']})"
   ]
  },
  {
   "cell_type": "code",
   "execution_count": 31,
   "id": "4c6dbbc7-bc31-43e3-a5a2-1f1228a32835",
   "metadata": {},
   "outputs": [],
   "source": [
    "%autoreload\n",
    "# Write Similarty Results to Table\n",
    "db_main.write_table('dev','test_table',df_test)"
   ]
  },
  {
   "cell_type": "code",
   "execution_count": 132,
   "id": "d2b429e6-f089-4ecc-999d-ee8767ea5608",
   "metadata": {},
   "outputs": [],
   "source": [
    "%autoreload\n",
    "# Read from Table\n",
    "users = '110'\n",
    "db_main.read_table('dev', f\"select * from user_ranking_mf where user_handle = {users}\")"
   ]
  },
  {
   "cell_type": "code",
   "execution_count": 140,
   "id": "57c72a8c-7954-4cdd-b2de-9aaef7ccc0c8",
   "metadata": {},
   "outputs": [
    {
     "data": {
      "text/plain": [
       "[{'user_handle': '110', 'similar': '5537', 'score': 0.895756185054779},\n",
       " {'user_handle': '110', 'similar': '7771', 'score': 0.8567180633544922},\n",
       " {'user_handle': '110', 'similar': '5843', 'score': 0.8519828915596008},\n",
       " {'user_handle': '110', 'similar': '239', 'score': 0.851238489151001},\n",
       " {'user_handle': '110', 'similar': '9530', 'score': 0.8363373279571533},\n",
       " {'user_handle': '110', 'similar': '687', 'score': 0.775060772895813},\n",
       " {'user_handle': '110', 'similar': '854', 'score': 0.7691600918769836},\n",
       " {'user_handle': '110', 'similar': '1199', 'score': 0.7563589811325073},\n",
       " {'user_handle': '110', 'similar': '9046', 'score': 0.7409684062004089},\n",
       " {'user_handle': '110', 'similar': '7341', 'score': 0.7401623129844666}]"
      ]
     },
     "execution_count": 140,
     "metadata": {},
     "output_type": "execute_result"
    }
   ],
   "source": [
    "t.to_dict(orient='records')"
   ]
  },
  {
   "cell_type": "markdown",
   "id": "0f1fa6e6-430c-447e-a954-02d936a2c20b",
   "metadata": {},
   "source": [
    "##### Add Index on Results Table (user_ranking)"
   ]
  },
  {
   "cell_type": "code",
   "execution_count": 128,
   "id": "6a92370b-5073-4919-abd1-823043aa46f8",
   "metadata": {},
   "outputs": [
    {
     "name": "stdout",
     "output_type": "stream",
     "text": [
      "index user_handle_index already exists\n"
     ]
    }
   ],
   "source": [
    "# Index user handle\n",
    "with DatabaseManager('dev') as conn:\n",
    "        try:\n",
    "            sql_table = f\"\"\"CREATE UNIQUE INDEX user_handle_index ON user_ranking_mf (user_handle)\"\"\"\n",
    "            cur = conn.cursor()\n",
    "            cur.execute(sql_table)\n",
    "        except Exception as e:\n",
    "            print(str(e))\n",
    "            pass"
   ]
  },
  {
   "cell_type": "markdown",
   "id": "37f0de44-34b9-4eaf-b7be-0a51fe264907",
   "metadata": {},
   "source": [
    "### Test Flask API\n",
    "\n",
    "```\n",
    "python runserver.py\n",
    "```\n",
    "\n",
    "\n",
    "**Python Script**"
   ]
  },
  {
   "cell_type": "code",
   "execution_count": 183,
   "id": "6f573050-beb5-4c6f-a61e-735fd7206fc6",
   "metadata": {},
   "outputs": [],
   "source": [
    "!export DATABASE_ENV=dev"
   ]
  },
  {
   "cell_type": "code",
   "execution_count": 184,
   "id": "78032bf4-c051-4cf3-a673-e5854763286b",
   "metadata": {},
   "outputs": [],
   "source": [
    "!export RESULTS_TABLE=user_ranking"
   ]
  },
  {
   "cell_type": "code",
   "execution_count": 191,
   "id": "dbb0bae4-589d-45c6-9634-c9d6db55fb99",
   "metadata": {},
   "outputs": [
    {
     "data": {
      "text/plain": [
       "'{\"110\": [{\"similar\": \"5537\", \"score\": 0.895756185054779}, {\"similar\": \"7771\", \"score\": 0.8567180633544922}, {\"similar\": \"5843\", \"score\": 0.8519828915596008}, {\"similar\": \"239\", \"score\": 0.851238489151001}, {\"similar\": \"9530\", \"score\": 0.8363373279571533}, {\"similar\": \"687\", \"score\": 0.775060772895813}, {\"similar\": \"854\", \"score\": 0.7691600918769836}, {\"similar\": \"1199\", \"score\": 0.7563589811325073}, {\"similar\": \"9046\", \"score\": 0.7409684062004089}, {\"similar\": \"7341\", \"score\": 0.7401623129844666}]}'"
      ]
     },
     "execution_count": 191,
     "metadata": {},
     "output_type": "execute_result"
    }
   ],
   "source": [
    "%autoreload\n",
    "os.environ['DATABASE_ENV'] = 'dev'\n",
    "os.environ['RESULTS_TABLE'] = 'user_ranking_mf'\n",
    "from server.api import similarity\n",
    "similarity(user_id='110')"
   ]
  },
  {
   "cell_type": "markdown",
   "id": "28d34f5a-0873-4f46-81de-aaec563ef005",
   "metadata": {},
   "source": [
    "**Make post request using CURL from command line**"
   ]
  },
  {
   "cell_type": "code",
   "execution_count": 196,
   "id": "26eccbfc-fc43-4dbc-b92d-2f7e6ce94d56",
   "metadata": {},
   "outputs": [
    {
     "name": "stdout",
     "output_type": "stream",
     "text": [
      "{\"110\": [{\"similar\": \"5537\", \"score\": 0.895756185054779}, {\"similar\": \"7771\", \"score\": 0.8567180633544922}, {\"similar\": \"5843\", \"score\": 0.8519828915596008}, {\"similar\": \"239\", \"score\": 0.851238489151001}, {\"similar\": \"9530\", \"score\": 0.8363373279571533}, {\"similar\": \"687\", \"score\": 0.775060772895813}, {\"similar\": \"854\", \"score\": 0.7691600918769836}, {\"similar\": \"1199\", \"score\": 0.7563589811325073}, {\"similar\": \"9046\", \"score\": 0.7409684062004089}, {\"similar\": \"7341\", \"score\": 0.7401623129844666}]}"
     ]
    }
   ],
   "source": [
    "!curl -X GET -H \"Content-type: application/json\" -d \"{\\\"user_handle\\\":\\\"110\\\"}\" \"http://0.0.0.0:5000/api/similarity/\""
   ]
  },
  {
   "cell_type": "markdown",
   "id": "2fd6f173-8a5c-40c2-bb37-08a1b24e2f95",
   "metadata": {},
   "source": [
    "### Results"
   ]
  },
  {
   "cell_type": "code",
   "execution_count": 3,
   "id": "f41b208d-388f-442b-92f3-4c3670479588",
   "metadata": {},
   "outputs": [],
   "source": [
    "# User content\n",
    "user_assesments = pd.read_csv(os.path.join('data','user_assessment_scores.csv'))\n",
    "user_interest = pd.read_csv(os.path.join('data','user_interests.csv'))\n",
    "user_course_views = pd.read_csv(os.path.join('data','user_course_views.csv'))\n",
    "course_tags = pd.read_csv(os.path.join('data','course_tags.csv'))"
   ]
  },
  {
   "cell_type": "code",
   "execution_count": 104,
   "id": "57f75160-4f83-4462-9a89-826c6658a8c2",
   "metadata": {},
   "outputs": [
    {
     "data": {
      "text/html": [
       "<div>\n",
       "<style scoped>\n",
       "    .dataframe tbody tr th:only-of-type {\n",
       "        vertical-align: middle;\n",
       "    }\n",
       "\n",
       "    .dataframe tbody tr th {\n",
       "        vertical-align: top;\n",
       "    }\n",
       "\n",
       "    .dataframe thead th {\n",
       "        text-align: right;\n",
       "    }\n",
       "</style>\n",
       "<table border=\"1\" class=\"dataframe\">\n",
       "  <thead>\n",
       "    <tr style=\"text-align: right;\">\n",
       "      <th></th>\n",
       "      <th>1</th>\n",
       "      <th>2</th>\n",
       "      <th>3</th>\n",
       "      <th>4</th>\n",
       "      <th>5</th>\n",
       "      <th>user_handle</th>\n",
       "    </tr>\n",
       "  </thead>\n",
       "  <tbody>\n",
       "    <tr>\n",
       "      <th>0</th>\n",
       "      <td>{'user': 4169, 'score': 1.1381}</td>\n",
       "      <td>{'user': 8314, 'score': 1.1228}</td>\n",
       "      <td>{'user': 487, 'score': 1.1176}</td>\n",
       "      <td>{'user': 463, 'score': 1.117}</td>\n",
       "      <td>{'user': 9280, 'score': 1.1147}</td>\n",
       "      <td>2</td>\n",
       "    </tr>\n",
       "  </tbody>\n",
       "</table>\n",
       "</div>"
      ],
      "text/plain": [
       "                                 1                                2  \\\n",
       "0  {'user': 4169, 'score': 1.1381}  {'user': 8314, 'score': 1.1228}   \n",
       "\n",
       "                                3                              4  \\\n",
       "0  {'user': 487, 'score': 1.1176}  {'user': 463, 'score': 1.117}   \n",
       "\n",
       "                                 5  user_handle  \n",
       "0  {'user': 9280, 'score': 1.1147}            2  "
      ]
     },
     "execution_count": 104,
     "metadata": {},
     "output_type": "execute_result"
    }
   ],
   "source": [
    "# Input User == 2\n",
    "%autoreload\n",
    "db_main.read_table('dev', f\"select * from user_ranking where user_handle = 2\")"
   ]
  },
  {
   "cell_type": "code",
   "execution_count": 197,
   "id": "47f6693c-895f-4968-af40-fca49375c73e",
   "metadata": {},
   "outputs": [
    {
     "data": {
      "text/html": [
       "<div>\n",
       "<style scoped>\n",
       "    .dataframe tbody tr th:only-of-type {\n",
       "        vertical-align: middle;\n",
       "    }\n",
       "\n",
       "    .dataframe tbody tr th {\n",
       "        vertical-align: top;\n",
       "    }\n",
       "\n",
       "    .dataframe thead th {\n",
       "        text-align: right;\n",
       "    }\n",
       "</style>\n",
       "<table border=\"1\" class=\"dataframe\">\n",
       "  <thead>\n",
       "    <tr style=\"text-align: right;\">\n",
       "      <th></th>\n",
       "      <th>user_handle</th>\n",
       "      <th>interest_tag</th>\n",
       "      <th>date_followed</th>\n",
       "    </tr>\n",
       "  </thead>\n",
       "  <tbody>\n",
       "    <tr>\n",
       "      <th>3955</th>\n",
       "      <td>110</td>\n",
       "      <td>angular</td>\n",
       "      <td>2017-06-29 04:29:55</td>\n",
       "    </tr>\n",
       "    <tr>\n",
       "      <th>3956</th>\n",
       "      <td>110</td>\n",
       "      <td>javascript-frameworks</td>\n",
       "      <td>2017-06-29 04:29:55</td>\n",
       "    </tr>\n",
       "    <tr>\n",
       "      <th>3957</th>\n",
       "      <td>110</td>\n",
       "      <td>javascript-libraries</td>\n",
       "      <td>2017-06-29 04:29:55</td>\n",
       "    </tr>\n",
       "    <tr>\n",
       "      <th>3958</th>\n",
       "      <td>110</td>\n",
       "      <td>javascript</td>\n",
       "      <td>2017-06-29 04:29:55</td>\n",
       "    </tr>\n",
       "    <tr>\n",
       "      <th>3959</th>\n",
       "      <td>110</td>\n",
       "      <td>c#</td>\n",
       "      <td>2017-06-29 04:29:55</td>\n",
       "    </tr>\n",
       "    <tr>\n",
       "      <th>...</th>\n",
       "      <td>...</td>\n",
       "      <td>...</td>\n",
       "      <td>...</td>\n",
       "    </tr>\n",
       "    <tr>\n",
       "      <th>4023</th>\n",
       "      <td>110</td>\n",
       "      <td>continuous-integration</td>\n",
       "      <td>2017-06-29 04:29:55</td>\n",
       "    </tr>\n",
       "    <tr>\n",
       "      <th>4024</th>\n",
       "      <td>110</td>\n",
       "      <td>performance-monitoring</td>\n",
       "      <td>2017-06-29 04:29:55</td>\n",
       "    </tr>\n",
       "    <tr>\n",
       "      <th>4025</th>\n",
       "      <td>110</td>\n",
       "      <td>visual-studio-2010-performance-testing</td>\n",
       "      <td>2017-06-29 04:29:55</td>\n",
       "    </tr>\n",
       "    <tr>\n",
       "      <th>4026</th>\n",
       "      <td>110</td>\n",
       "      <td>performance</td>\n",
       "      <td>2017-06-29 04:29:55</td>\n",
       "    </tr>\n",
       "    <tr>\n",
       "      <th>4027</th>\n",
       "      <td>110</td>\n",
       "      <td>performance-optimization</td>\n",
       "      <td>2017-06-29 04:29:55</td>\n",
       "    </tr>\n",
       "  </tbody>\n",
       "</table>\n",
       "<p>73 rows × 3 columns</p>\n",
       "</div>"
      ],
      "text/plain": [
       "      user_handle                            interest_tag        date_followed\n",
       "3955          110                                 angular  2017-06-29 04:29:55\n",
       "3956          110                   javascript-frameworks  2017-06-29 04:29:55\n",
       "3957          110                    javascript-libraries  2017-06-29 04:29:55\n",
       "3958          110                              javascript  2017-06-29 04:29:55\n",
       "3959          110                                      c#  2017-06-29 04:29:55\n",
       "...           ...                                     ...                  ...\n",
       "4023          110                  continuous-integration  2017-06-29 04:29:55\n",
       "4024          110                  performance-monitoring  2017-06-29 04:29:55\n",
       "4025          110  visual-studio-2010-performance-testing  2017-06-29 04:29:55\n",
       "4026          110                             performance  2017-06-29 04:29:55\n",
       "4027          110                performance-optimization  2017-06-29 04:29:55\n",
       "\n",
       "[73 rows x 3 columns]"
      ]
     },
     "execution_count": 197,
     "metadata": {},
     "output_type": "execute_result"
    }
   ],
   "source": [
    "user_interest[user_interest['user_handle'] == 110]"
   ]
  },
  {
   "cell_type": "code",
   "execution_count": 198,
   "id": "269a8ed3-d6e6-41c4-a836-f77a877a2c1e",
   "metadata": {},
   "outputs": [
    {
     "data": {
      "text/html": [
       "<div>\n",
       "<style scoped>\n",
       "    .dataframe tbody tr th:only-of-type {\n",
       "        vertical-align: middle;\n",
       "    }\n",
       "\n",
       "    .dataframe tbody tr th {\n",
       "        vertical-align: top;\n",
       "    }\n",
       "\n",
       "    .dataframe thead th {\n",
       "        text-align: right;\n",
       "    }\n",
       "</style>\n",
       "<table border=\"1\" class=\"dataframe\">\n",
       "  <thead>\n",
       "    <tr style=\"text-align: right;\">\n",
       "      <th></th>\n",
       "      <th>user_handle</th>\n",
       "      <th>interest_tag</th>\n",
       "      <th>date_followed</th>\n",
       "    </tr>\n",
       "  </thead>\n",
       "  <tbody>\n",
       "    <tr>\n",
       "      <th>167016</th>\n",
       "      <td>5537</td>\n",
       "      <td>angular</td>\n",
       "      <td>2017-07-16 20:15:37</td>\n",
       "    </tr>\n",
       "    <tr>\n",
       "      <th>167017</th>\n",
       "      <td>5537</td>\n",
       "      <td>javascript-frameworks</td>\n",
       "      <td>2017-07-16 20:15:37</td>\n",
       "    </tr>\n",
       "    <tr>\n",
       "      <th>167018</th>\n",
       "      <td>5537</td>\n",
       "      <td>javascript-libraries</td>\n",
       "      <td>2017-07-16 20:15:37</td>\n",
       "    </tr>\n",
       "    <tr>\n",
       "      <th>167019</th>\n",
       "      <td>5537</td>\n",
       "      <td>javascript</td>\n",
       "      <td>2017-07-16 20:15:37</td>\n",
       "    </tr>\n",
       "    <tr>\n",
       "      <th>167020</th>\n",
       "      <td>5537</td>\n",
       "      <td>c#</td>\n",
       "      <td>2017-07-16 20:15:37</td>\n",
       "    </tr>\n",
       "    <tr>\n",
       "      <th>...</th>\n",
       "      <td>...</td>\n",
       "      <td>...</td>\n",
       "      <td>...</td>\n",
       "    </tr>\n",
       "    <tr>\n",
       "      <th>167101</th>\n",
       "      <td>5537</td>\n",
       "      <td>webstorm</td>\n",
       "      <td>2017-07-16 20:15:37</td>\n",
       "    </tr>\n",
       "    <tr>\n",
       "      <th>167102</th>\n",
       "      <td>5537</td>\n",
       "      <td>vim</td>\n",
       "      <td>2017-07-16 20:15:37</td>\n",
       "    </tr>\n",
       "    <tr>\n",
       "      <th>167103</th>\n",
       "      <td>5537</td>\n",
       "      <td>developer-tools</td>\n",
       "      <td>2017-07-16 20:15:37</td>\n",
       "    </tr>\n",
       "    <tr>\n",
       "      <th>167104</th>\n",
       "      <td>5537</td>\n",
       "      <td>domain-driven-design</td>\n",
       "      <td>2017-07-16 20:15:37</td>\n",
       "    </tr>\n",
       "    <tr>\n",
       "      <th>167105</th>\n",
       "      <td>5537</td>\n",
       "      <td>sql-server</td>\n",
       "      <td>2017-07-16 20:15:37</td>\n",
       "    </tr>\n",
       "  </tbody>\n",
       "</table>\n",
       "<p>90 rows × 3 columns</p>\n",
       "</div>"
      ],
      "text/plain": [
       "        user_handle           interest_tag        date_followed\n",
       "167016         5537                angular  2017-07-16 20:15:37\n",
       "167017         5537  javascript-frameworks  2017-07-16 20:15:37\n",
       "167018         5537   javascript-libraries  2017-07-16 20:15:37\n",
       "167019         5537             javascript  2017-07-16 20:15:37\n",
       "167020         5537                     c#  2017-07-16 20:15:37\n",
       "...             ...                    ...                  ...\n",
       "167101         5537               webstorm  2017-07-16 20:15:37\n",
       "167102         5537                    vim  2017-07-16 20:15:37\n",
       "167103         5537        developer-tools  2017-07-16 20:15:37\n",
       "167104         5537   domain-driven-design  2017-07-16 20:15:37\n",
       "167105         5537             sql-server  2017-07-16 20:15:37\n",
       "\n",
       "[90 rows x 3 columns]"
      ]
     },
     "execution_count": 198,
     "metadata": {},
     "output_type": "execute_result"
    }
   ],
   "source": [
    "user_interest[user_interest['user_handle'] == 5537]"
   ]
  },
  {
   "cell_type": "code",
   "execution_count": 203,
   "id": "2e87c5ae-a493-4a20-bc9e-0d1010d4104b",
   "metadata": {},
   "outputs": [
    {
     "data": {
      "text/html": [
       "<div>\n",
       "<style scoped>\n",
       "    .dataframe tbody tr th:only-of-type {\n",
       "        vertical-align: middle;\n",
       "    }\n",
       "\n",
       "    .dataframe tbody tr th {\n",
       "        vertical-align: top;\n",
       "    }\n",
       "\n",
       "    .dataframe thead th {\n",
       "        text-align: right;\n",
       "    }\n",
       "</style>\n",
       "<table border=\"1\" class=\"dataframe\">\n",
       "  <thead>\n",
       "    <tr style=\"text-align: right;\">\n",
       "      <th></th>\n",
       "      <th>user_handle</th>\n",
       "      <th>assessment_tag</th>\n",
       "      <th>user_assessment_date</th>\n",
       "      <th>user_assessment_score</th>\n",
       "    </tr>\n",
       "  </thead>\n",
       "  <tbody>\n",
       "  </tbody>\n",
       "</table>\n",
       "</div>"
      ],
      "text/plain": [
       "Empty DataFrame\n",
       "Columns: [user_handle, assessment_tag, user_assessment_date, user_assessment_score]\n",
       "Index: []"
      ]
     },
     "execution_count": 203,
     "metadata": {},
     "output_type": "execute_result"
    }
   ],
   "source": [
    "user_assesments[user_assesments['user_handle'] == 110]"
   ]
  },
  {
   "cell_type": "code",
   "execution_count": 204,
   "id": "1a7d7784-3025-4fdf-93e6-7940e094e537",
   "metadata": {},
   "outputs": [
    {
     "data": {
      "text/html": [
       "<div>\n",
       "<style scoped>\n",
       "    .dataframe tbody tr th:only-of-type {\n",
       "        vertical-align: middle;\n",
       "    }\n",
       "\n",
       "    .dataframe tbody tr th {\n",
       "        vertical-align: top;\n",
       "    }\n",
       "\n",
       "    .dataframe thead th {\n",
       "        text-align: right;\n",
       "    }\n",
       "</style>\n",
       "<table border=\"1\" class=\"dataframe\">\n",
       "  <thead>\n",
       "    <tr style=\"text-align: right;\">\n",
       "      <th></th>\n",
       "      <th>user_handle</th>\n",
       "      <th>assessment_tag</th>\n",
       "      <th>user_assessment_date</th>\n",
       "      <th>user_assessment_score</th>\n",
       "    </tr>\n",
       "  </thead>\n",
       "  <tbody>\n",
       "  </tbody>\n",
       "</table>\n",
       "</div>"
      ],
      "text/plain": [
       "Empty DataFrame\n",
       "Columns: [user_handle, assessment_tag, user_assessment_date, user_assessment_score]\n",
       "Index: []"
      ]
     },
     "execution_count": 204,
     "metadata": {},
     "output_type": "execute_result"
    }
   ],
   "source": [
    "user_assesments[user_assesments['user_handle'] == 5537]"
   ]
  },
  {
   "cell_type": "code",
   "execution_count": 212,
   "id": "c347780d-ac51-442c-9ac3-ad1cd0780c29",
   "metadata": {},
   "outputs": [
    {
     "data": {
      "text/html": [
       "<div>\n",
       "<style scoped>\n",
       "    .dataframe tbody tr th:only-of-type {\n",
       "        vertical-align: middle;\n",
       "    }\n",
       "\n",
       "    .dataframe tbody tr th {\n",
       "        vertical-align: top;\n",
       "    }\n",
       "\n",
       "    .dataframe thead th {\n",
       "        text-align: right;\n",
       "    }\n",
       "</style>\n",
       "<table border=\"1\" class=\"dataframe\">\n",
       "  <thead>\n",
       "    <tr style=\"text-align: right;\">\n",
       "      <th></th>\n",
       "      <th>user_handle</th>\n",
       "      <th>view_date</th>\n",
       "      <th>course_id</th>\n",
       "      <th>author_handle</th>\n",
       "      <th>level</th>\n",
       "      <th>view_time_seconds</th>\n",
       "    </tr>\n",
       "  </thead>\n",
       "  <tbody>\n",
       "    <tr>\n",
       "      <th>2834</th>\n",
       "      <td>110</td>\n",
       "      <td>2017-08-09</td>\n",
       "      <td>spring-boot-first-application</td>\n",
       "      <td>191</td>\n",
       "      <td>Intermediate</td>\n",
       "      <td>1663</td>\n",
       "    </tr>\n",
       "    <tr>\n",
       "      <th>2835</th>\n",
       "      <td>110</td>\n",
       "      <td>2017-08-09</td>\n",
       "      <td>spring-data-rest-getting-started</td>\n",
       "      <td>191</td>\n",
       "      <td>Intermediate</td>\n",
       "      <td>5702</td>\n",
       "    </tr>\n",
       "    <tr>\n",
       "      <th>2836</th>\n",
       "      <td>110</td>\n",
       "      <td>2017-08-09</td>\n",
       "      <td>spring-jpa-hibernate</td>\n",
       "      <td>131</td>\n",
       "      <td>Intermediate</td>\n",
       "      <td>11153</td>\n",
       "    </tr>\n",
       "    <tr>\n",
       "      <th>2837</th>\n",
       "      <td>110</td>\n",
       "      <td>2017-08-10</td>\n",
       "      <td>java-persistence-api-21</td>\n",
       "      <td>68</td>\n",
       "      <td>Intermediate</td>\n",
       "      <td>114</td>\n",
       "    </tr>\n",
       "    <tr>\n",
       "      <th>2838</th>\n",
       "      <td>110</td>\n",
       "      <td>2017-08-10</td>\n",
       "      <td>spring-data-rest-getting-started</td>\n",
       "      <td>191</td>\n",
       "      <td>Intermediate</td>\n",
       "      <td>1838</td>\n",
       "    </tr>\n",
       "  </tbody>\n",
       "</table>\n",
       "</div>"
      ],
      "text/plain": [
       "      user_handle   view_date                         course_id  \\\n",
       "2834          110  2017-08-09     spring-boot-first-application   \n",
       "2835          110  2017-08-09  spring-data-rest-getting-started   \n",
       "2836          110  2017-08-09              spring-jpa-hibernate   \n",
       "2837          110  2017-08-10           java-persistence-api-21   \n",
       "2838          110  2017-08-10  spring-data-rest-getting-started   \n",
       "\n",
       "      author_handle         level  view_time_seconds  \n",
       "2834            191  Intermediate               1663  \n",
       "2835            191  Intermediate               5702  \n",
       "2836            131  Intermediate              11153  \n",
       "2837             68  Intermediate                114  \n",
       "2838            191  Intermediate               1838  "
      ]
     },
     "execution_count": 212,
     "metadata": {},
     "output_type": "execute_result"
    }
   ],
   "source": [
    "user_course_views[user_course_views['user_handle'] == 110].tail(5)"
   ]
  },
  {
   "cell_type": "code",
   "execution_count": 210,
   "id": "a1369234-0dfd-49a0-9c78-7821921bac1d",
   "metadata": {},
   "outputs": [
    {
     "data": {
      "text/html": [
       "<div>\n",
       "<style scoped>\n",
       "    .dataframe tbody tr th:only-of-type {\n",
       "        vertical-align: middle;\n",
       "    }\n",
       "\n",
       "    .dataframe tbody tr th {\n",
       "        vertical-align: top;\n",
       "    }\n",
       "\n",
       "    .dataframe thead th {\n",
       "        text-align: right;\n",
       "    }\n",
       "</style>\n",
       "<table border=\"1\" class=\"dataframe\">\n",
       "  <thead>\n",
       "    <tr style=\"text-align: right;\">\n",
       "      <th></th>\n",
       "      <th>user_handle</th>\n",
       "      <th>view_date</th>\n",
       "      <th>course_id</th>\n",
       "      <th>author_handle</th>\n",
       "      <th>level</th>\n",
       "      <th>view_time_seconds</th>\n",
       "    </tr>\n",
       "  </thead>\n",
       "  <tbody>\n",
       "    <tr>\n",
       "      <th>139808</th>\n",
       "      <td>5537</td>\n",
       "      <td>2017-08-28</td>\n",
       "      <td>tree-based-models-classification</td>\n",
       "      <td>872</td>\n",
       "      <td>Beginner</td>\n",
       "      <td>7011</td>\n",
       "    </tr>\n",
       "    <tr>\n",
       "      <th>139809</th>\n",
       "      <td>5537</td>\n",
       "      <td>2017-08-29</td>\n",
       "      <td>building-multi-client-end-to-end-soa-angular</td>\n",
       "      <td>651</td>\n",
       "      <td>Intermediate</td>\n",
       "      <td>44410</td>\n",
       "    </tr>\n",
       "    <tr>\n",
       "      <th>139810</th>\n",
       "      <td>5537</td>\n",
       "      <td>2017-08-29</td>\n",
       "      <td>technical-writing-software-documentation</td>\n",
       "      <td>41</td>\n",
       "      <td>Beginner</td>\n",
       "      <td>13642</td>\n",
       "    </tr>\n",
       "    <tr>\n",
       "      <th>139811</th>\n",
       "      <td>5537</td>\n",
       "      <td>2017-08-30</td>\n",
       "      <td>advanced-machine-learning-encog</td>\n",
       "      <td>9</td>\n",
       "      <td>Advanced</td>\n",
       "      <td>15076</td>\n",
       "    </tr>\n",
       "    <tr>\n",
       "      <th>139812</th>\n",
       "      <td>5537</td>\n",
       "      <td>2017-09-03</td>\n",
       "      <td>advanced-machine-learning-encog-pt2</td>\n",
       "      <td>9</td>\n",
       "      <td>Advanced</td>\n",
       "      <td>13270</td>\n",
       "    </tr>\n",
       "  </tbody>\n",
       "</table>\n",
       "</div>"
      ],
      "text/plain": [
       "        user_handle   view_date                                     course_id  \\\n",
       "139808         5537  2017-08-28              tree-based-models-classification   \n",
       "139809         5537  2017-08-29  building-multi-client-end-to-end-soa-angular   \n",
       "139810         5537  2017-08-29      technical-writing-software-documentation   \n",
       "139811         5537  2017-08-30               advanced-machine-learning-encog   \n",
       "139812         5537  2017-09-03           advanced-machine-learning-encog-pt2   \n",
       "\n",
       "        author_handle         level  view_time_seconds  \n",
       "139808            872      Beginner               7011  \n",
       "139809            651  Intermediate              44410  \n",
       "139810             41      Beginner              13642  \n",
       "139811              9      Advanced              15076  \n",
       "139812              9      Advanced              13270  "
      ]
     },
     "execution_count": 210,
     "metadata": {},
     "output_type": "execute_result"
    }
   ],
   "source": [
    "user_course_views[user_course_views['user_handle'] == 5537].tail(5)"
   ]
  }
 ],
 "metadata": {
  "kernelspec": {
   "display_name": "pluaral",
   "language": "python",
   "name": "pluaral"
  },
  "language_info": {
   "codemirror_mode": {
    "name": "ipython",
    "version": 3
   },
   "file_extension": ".py",
   "mimetype": "text/x-python",
   "name": "python",
   "nbconvert_exporter": "python",
   "pygments_lexer": "ipython3",
   "version": "3.8.1"
  }
 },
 "nbformat": 4,
 "nbformat_minor": 5
}

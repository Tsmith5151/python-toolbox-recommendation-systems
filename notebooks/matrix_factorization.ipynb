{
 "cells": [
  {
   "cell_type": "markdown",
   "id": "88fb2a2f-4318-4289-9a12-9b64f86e47a3",
   "metadata": {},
   "source": [
    "## Collaborative Filtering: Matrix Factorization\n",
    "\n",
    "- Check out: https://github.com/NicolasHug/Surprise\n",
    "\n",
    "- In this example, we will explore building a MF model using explicit data (e.g. ratings). The scenario is given a dataset of users and courses they've viewed, recommend other courses a user may also be interested in. This example is basically a regression problem where we try to predict the ratings for each user and then recommend the highest predicted ratings. "
   ]
  },
  {
   "cell_type": "code",
   "execution_count": 1,
   "id": "3fccbe01-afc0-44ad-930f-7cddbbd4804b",
   "metadata": {},
   "outputs": [
    {
     "name": "stdout",
     "output_type": "stream",
     "text": [
      "/Users/tracesmith/Desktop/Trace/Coding/user-recommender\n"
     ]
    }
   ],
   "source": [
    "%cd .."
   ]
  },
  {
   "cell_type": "code",
   "execution_count": 2,
   "id": "19f36d7d-95aa-43a0-8e18-bd39ef47ad8a",
   "metadata": {},
   "outputs": [],
   "source": [
    "%load_ext autoreload\n",
    "%autoreload\n",
    "import os\n",
    "import numpy as np\n",
    "import pandas as pd\n",
    "import tensorflow as tf\n",
    "from recommender.utils.plots import plot_metrics"
   ]
  },
  {
   "cell_type": "code",
   "execution_count": 3,
   "id": "c6e58f00-26f9-47f8-97de-801b9d1c699d",
   "metadata": {},
   "outputs": [],
   "source": [
    "# Users Dataframe\n",
    "users = pd.read_csv(os.path.join('data','user_course_views.csv'))\n",
    "users = users.rename(columns={'user_handle':'user_id','course_id':'item_id'})\n",
    "\n",
    "# Add Ratings Columns to Test Purposes\n",
    "ratings = users[['user_id','item_id']].drop_duplicates()\n",
    "ratings['rating'] = [np.random.randint(1,5) for i in range(ratings.shape[0])]\n",
    "\n",
    "n_users = len(ratings['user_id'].unique())\n",
    "n_items = len(ratings['item_id'].unique())"
   ]
  },
  {
   "cell_type": "markdown",
   "id": "a3916190-e0ea-446d-bacd-8c623247f9d2",
   "metadata": {},
   "source": [
    "### Encode Labels"
   ]
  },
  {
   "cell_type": "code",
   "execution_count": 4,
   "id": "8d919857-08e5-43f1-834e-e145589a3a03",
   "metadata": {},
   "outputs": [],
   "source": [
    "from typing import List\n",
    "def encode_unique_ids(data:pd.DataFrame,cols:List[str]):\n",
    "    \"\"\" Encode unique ids for user/items \"\"\"\n",
    "    for col in cols:\n",
    "        data[col] = pd.Categorical(data[col]).codes\n",
    "    return data \n",
    "\n",
    "# Create mappings for unique user and item ids\n",
    "ratings = encode_unique_ids(ratings,['user_id','item_id'])"
   ]
  },
  {
   "cell_type": "markdown",
   "id": "cd1406a9-9f9a-46c1-a05f-8b925f37577e",
   "metadata": {},
   "source": [
    "### Train/Test Split"
   ]
  },
  {
   "cell_type": "code",
   "execution_count": 5,
   "id": "8fadded3-228c-4541-86b9-f4722506664a",
   "metadata": {},
   "outputs": [
    {
     "name": "stdout",
     "output_type": "stream",
     "text": [
      "Train Shape: (84282, 3) -- Test Shape: (21071, 3)\n"
     ]
    }
   ],
   "source": [
    "def split_train_test(data:pd.DataFrame, split_ratio:float) -> np.ndarray:\n",
    "    \"\"\" Split Train/Test Dataset\"\"\"\n",
    "    idx = int(np.ceil(len(ratings) * split_ratio))\n",
    "    train,test = data[:-idx], data[-idx:]\n",
    "    print(f'Train Shape: {train.shape} -- Test Shape: {test.shape}')\n",
    "    return train,test\n",
    "    \n",
    "train,test = split_train_test(ratings,split_ratio=0.20)"
   ]
  },
  {
   "cell_type": "markdown",
   "id": "1abc0505-aafc-44cd-8500-3437c0e7aabf",
   "metadata": {},
   "source": [
    "### Matrix Factorization Model\n",
    "\n",
    "Our goal is to factorize the ratings matrix $A$ into the product of a user embedding matrix $U$ and items embedding matrix $V$, such that $A \\approx UV^\\top$ with\n",
    "\n",
    "$U = \\begin{bmatrix} u_{1} \\\\ \\hline \\vdots \\\\ \\hline u_{N} \\end{bmatrix}$ and\n",
    "$V = \\begin{bmatrix} v_{1} \\\\ \\hline \\vdots \\\\ \\hline v_{M} \\end{bmatrix}$.\n",
    "\n",
    "Here\n",
    "- $N$ is the number of users,\n",
    "- $M$ is the number of items,\n",
    "- $A_{ij}$ is the rating of the $j$th items by the $i$th user,\n",
    "- Each row $U_i$ is a $d$-dimensional vector (embedding) representing user $i$,\n",
    "- Each row $V_j$ is a $d$-dimensional vector (embedding) representing items $j$,\n",
    "- Predictions: for the $(i, j)$ pair is the dot product $\\langle U_i, V_j \\rangle$."
   ]
  },
  {
   "cell_type": "markdown",
   "id": "a18caa32-0745-4ece-9c78-9cb3a154a729",
   "metadata": {},
   "source": [
    "### Calculate Error\n",
    "\n",
    "The model approximates the ratings matrix $A$ by a low-rank product $UV^\\top$. We need a way to measure the approximation error. We'll start by using the Mean Squared Error of observed entries only (we will revisit this later). It is defined as\n",
    "\n",
    "$$\n",
    "\\begin{align*}\n",
    "\\text{MSE}(A, UV^\\top)\n",
    "&= \\frac{1}{|\\Omega|}\\sum_{(i, j) \\in\\Omega}{( A_{ij} - (UV^\\top)_{ij})^2} \\\\\n",
    "&= \\frac{1}{|\\Omega|}\\sum_{(i, j) \\in\\Omega}{( A_{ij} - \\langle U_i, V_j\\rangle)^2}\n",
    "\\end{align*}\n",
    "$$\n",
    "where $\\Omega$ is the set of observed ratings, and $|\\Omega|$ is the cardinality of $\\Omega$."
   ]
  },
  {
   "cell_type": "markdown",
   "id": "6725fc07-54b0-4eb3-aa15-ecd799ef546b",
   "metadata": {},
   "source": [
    "### Train Matrix Factorization Model using Stochastic Gradient Descent with Keras"
   ]
  },
  {
   "cell_type": "markdown",
   "id": "27485aba-8b25-42fe-85c0-ed903994a3bd",
   "metadata": {},
   "source": [
    "- The user-movie rating matrix is high dimensional and sparse, therefore I am going to reduce the dimensionality to represent the data in a dense form.\n",
    "- Using matrix factorisation a large matrix can be estimated/decomposed into two long but slim matrices. \n",
    "- With gradient descent it is possible to adjust these matrices to represent the given ratings. \n",
    "- The gradient descent algorithm finds latent variables which represent the underlying structure of the dataset. Afterwards these latent variables can be used to reconstruct the original matrix and to predict the missing ratings for each user.\n",
    "- In this case the model has not been trained to convergence and is not hyperparameter optimized."
   ]
  },
  {
   "cell_type": "markdown",
   "id": "b3176ae2-8dea-4cb5-9426-16af0ad807df",
   "metadata": {},
   "source": [
    "### Build Sparse Matrix"
   ]
  },
  {
   "cell_type": "code",
   "execution_count": 6,
   "id": "7944ab49-a41f-43f8-8a43-13e6a749ce8e",
   "metadata": {},
   "outputs": [
    {
     "name": "stdout",
     "output_type": "stream",
     "text": [
      "Shape User-Courses-Matrix:\t(7033, 5680)\n"
     ]
    }
   ],
   "source": [
    "def user_item_matrix(data:pd.DataFrame):\n",
    "    \"\"\" Generate User/Item Matrix\"\"\"\n",
    "    user_item_matrix = data.pivot_table(index='user_id', columns='item_id', values='rating')\n",
    "    print('Shape User-Courses-Matrix:\\t{}'.format(user_item_matrix.shape))\n",
    "    return user_item_matrix\n",
    "    \n",
    "user_item_train = user_item_matrix(train)"
   ]
  },
  {
   "cell_type": "markdown",
   "id": "549b3762-60b3-41e9-90c1-251e225d76a0",
   "metadata": {},
   "source": [
    "### Train Model"
   ]
  },
  {
   "cell_type": "code",
   "execution_count": null,
   "id": "c9613dbe-4fc1-4833-8e2a-3c5f9734845f",
   "metadata": {},
   "outputs": [],
   "source": [
    "%autoreload\n",
    "from recommenders.mf import MatrixFactorization\n",
    "MF = MatrixFactorization(n_users, n_items, epochs=50, learning_rate=0.001, dropout=0.20, batch_size=64, embedding_dim=25)"
   ]
  },
  {
   "cell_type": "code",
   "execution_count": 15,
   "id": "a583ac8b-ed35-421d-9395-55f2d87cdf5a",
   "metadata": {},
   "outputs": [],
   "source": [
    "MF = MatrixFactorization(n_users, n_items, epochs=50, learning_rate=0.001, batch_size=64, embedding_dim=25)"
   ]
  },
  {
   "cell_type": "code",
   "execution_count": 16,
   "id": "3ff3a223-a513-4070-9796-33c10f1c1920",
   "metadata": {},
   "outputs": [
    {
     "name": "stderr",
     "output_type": "stream",
     "text": [
      "2021-07-28 15:57:42.492394: I tensorflow/compiler/mlir/mlir_graph_optimization_pass.cc:176] None of the MLIR Optimization Passes are enabled (registered 2)\n"
     ]
    },
    {
     "name": "stdout",
     "output_type": "stream",
     "text": [
      "Epoch 1/50\n",
      "1186/1186 [==============================] - 3s 2ms/step - loss: 1.5830 - val_loss: 1.2873\n",
      "Epoch 2/50\n",
      "1186/1186 [==============================] - 2s 2ms/step - loss: 1.2622 - val_loss: 1.2583\n",
      "Epoch 3/50\n",
      "1186/1186 [==============================] - 2s 2ms/step - loss: 1.2304 - val_loss: 1.2610\n",
      "Epoch 4/50\n",
      "1186/1186 [==============================] - 2s 2ms/step - loss: 1.1970 - val_loss: 1.2773\n",
      "Epoch 5/50\n",
      "1186/1186 [==============================] - 2s 2ms/step - loss: 1.1775 - val_loss: 1.2825\n",
      "Epoch 6/50\n",
      "1186/1186 [==============================] - 2s 2ms/step - loss: 1.1637 - val_loss: 1.2807\n",
      "Epoch 7/50\n",
      "1186/1186 [==============================] - 2s 2ms/step - loss: 1.1548 - val_loss: 1.3118\n",
      "CPU times: user 50.9 s, sys: 8.3 s, total: 59.2 s\n",
      "Wall time: 16.9 s\n"
     ]
    }
   ],
   "source": [
    "%time history = MF.train([train['user_id'],train['item_id']], train['rating'])"
   ]
  },
  {
   "cell_type": "markdown",
   "id": "e784feb9-891b-4a2d-86d6-de530093ebb1",
   "metadata": {},
   "source": [
    "### Evaluate Model"
   ]
  },
  {
   "cell_type": "code",
   "execution_count": 17,
   "id": "d325ca64-64ab-4ad0-916c-ace45f633538",
   "metadata": {},
   "outputs": [
    {
     "name": "stderr",
     "output_type": "stream",
     "text": [
      "/Users/tracesmith/Desktop/Trace/Coding/user-recommender/recommender/utils/plots.py:22: MatplotlibDeprecationWarning: Passing non-integers as three-element position specification is deprecated since 3.3 and will be removed two minor releases later.\n",
      "  ax = fig.add_subplot(n_rows, n_cols, idx + 1)\n"
     ]
    },
    {
     "data": {
      "image/png": "[encoded data removed]",
      "text/plain": [
       "<Figure size 1152x396 with 1 Axes>"
      ]
     },
     "metadata": {
      "needs_background": "light"
     },
     "output_type": "display_data"
    }
   ],
   "source": [
    "%autoreload\n",
    "plot_metrics(history,metrics=['loss'])"
   ]
  },
  {
   "cell_type": "markdown",
   "id": "b0e5d0b6-958f-418c-8942-8a22d1e964f1",
   "metadata": {},
   "source": [
    "### Make Recommendation\n",
    "\n",
    "- Recommend topK items to user"
   ]
  },
  {
   "cell_type": "code",
   "execution_count": 18,
   "id": "2e1937a7-39ea-41f5-a0dd-1a956114daa4",
   "metadata": {},
   "outputs": [],
   "source": [
    "weights = MF.model.get_weights()\n",
    "user_embeddings = weights[0]\n",
    "item_embeddings = weights[1]"
   ]
  }
 ],
 "metadata": {
  "kernelspec": {
   "display_name": "pluaral",
   "language": "python",
   "name": "pluaral"
  },
  "language_info": {
   "codemirror_mode": {
    "name": "ipython",
    "version": 3
   },
   "file_extension": ".py",
   "mimetype": "text/x-python",
   "name": "python",
   "nbconvert_exporter": "python",
   "pygments_lexer": "ipython3",
   "version": "3.8.1"
  }
 },
 "nbformat": 4,
 "nbformat_minor": 5
}

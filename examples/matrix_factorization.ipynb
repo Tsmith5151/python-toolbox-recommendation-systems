{
 "cells": [
  {
   "cell_type": "markdown",
   "id": "88fb2a2f-4318-4289-9a12-9b64f86e47a3",
   "metadata": {},
   "source": [
    "## Collaborative Filtering: Matrix Factorization\n",
    "\n",
    "- Example for Generalized Matrix Factorization (GMF) and Neural Matrix Factorization (NMF)\n",
    "\n",
    "- In this example, we will explore building a MF model using explicit data (e.g. ratings). The scenario is given a dataset of users and courses they've viewed, recommend other courses a user may also be interested in. This example is basically a regression problem where we try to predict the ratings for each user and then recommend the highest predicted ratings. "
   ]
  },
  {
   "cell_type": "code",
   "execution_count": 1,
   "id": "3fccbe01-afc0-44ad-930f-7cddbbd4804b",
   "metadata": {},
   "outputs": [
    {
     "name": "stdout",
     "output_type": "stream",
     "text": [
      "/Users/tracesmith/Desktop/Trace/Coding/user-recommender\n"
     ]
    }
   ],
   "source": [
    "%cd .."
   ]
  },
  {
   "cell_type": "code",
   "execution_count": 85,
   "id": "19f36d7d-95aa-43a0-8e18-bd39ef47ad8a",
   "metadata": {},
   "outputs": [
    {
     "name": "stdout",
     "output_type": "stream",
     "text": [
      "The autoreload extension is already loaded. To reload it, use:\n",
      "  %reload_ext autoreload\n"
     ]
    }
   ],
   "source": [
    "%load_ext autoreload\n",
    "%autoreload\n",
    "import os\n",
    "import numpy as np\n",
    "import pandas as pd\n",
    "\n",
    "import tensorflow as tf\n",
    "from recommenders.utils.plots import plot_metrics\n",
    "from recommenders.matrix_factorization import get_recommendations\n",
    "from recommenders.similarity import cosine_similarity,ApproximateTopRelated"
   ]
  },
  {
   "cell_type": "markdown",
   "id": "86dd3b47-74c7-40e4-b0fe-eb3615ab3adc",
   "metadata": {},
   "source": [
    "### Load Data"
   ]
  },
  {
   "cell_type": "code",
   "execution_count": 66,
   "id": "28caf22f-53a6-4d33-8c69-1c28cb9445dc",
   "metadata": {},
   "outputs": [],
   "source": [
    "# Courses\n",
    "items = pd.read_csv(os.path.join('data','course_tags.csv'))\n",
    "items = items.rename(columns={'course_id':'item_id'})\n",
    "                              \n",
    "# Users\n",
    "users = pd.read_csv(os.path.join('data','user_course_views.csv'))\n",
    "users = users.rename(columns={'user_handle':'user_id',\n",
    "                              'course_id':'item_id',\n",
    "                              'view_time_seconds':'view_time'})\n",
    "\n",
    "# Aggregate user viewing time --> viewed same course multiple times\n",
    "users = users.groupby(['user_id','item_id','level'])['view_time'].sum().reset_index(drop=False)"
   ]
  },
  {
   "cell_type": "markdown",
   "id": "05c95738-3058-43eb-bf33-c6aef8e9a713",
   "metadata": {},
   "source": [
    "### Drop courses with the lowest view time"
   ]
  },
  {
   "cell_type": "code",
   "execution_count": 67,
   "id": "95adf16f-5778-4d17-a567-7e39d1dc8330",
   "metadata": {},
   "outputs": [
    {
     "name": "stdout",
     "output_type": "stream",
     "text": [
      "filter: 3940\n"
     ]
    }
   ],
   "source": [
    "thres = 5\n",
    "min_views = users.groupby('user_id')['item_id'].count().reset_index(drop=False).rename(columns={'item_id':'count'})\n",
    "users_filter = min_views[min_views['count'] < thres]['user_id'].tolist()\n",
    "print('filter:',len(users_filter))"
   ]
  },
  {
   "cell_type": "code",
   "execution_count": 73,
   "id": "b8636437-8632-401a-9947-f01353d64379",
   "metadata": {},
   "outputs": [],
   "source": [
    "users = users[~users['user_id'].isin(users_filter)].reset_index(drop=True)"
   ]
  },
  {
   "cell_type": "markdown",
   "id": "6b99eb85-fa36-40fb-b769-ce9aa7f047ad",
   "metadata": {},
   "source": [
    "### Unique Users/Items"
   ]
  },
  {
   "cell_type": "code",
   "execution_count": 69,
   "id": "295a6a12-ef87-444d-b191-8396d326c0f9",
   "metadata": {},
   "outputs": [
    {
     "name": "stdout",
     "output_type": "stream",
     "text": [
      "4820 5942\n"
     ]
    }
   ],
   "source": [
    "unique_users = users['user_id'].unique()\n",
    "unique_items = items['item_id'].unique()\n",
    "print(unique_users.shape[0],unique_items.shape[0])"
   ]
  },
  {
   "cell_type": "markdown",
   "id": "56e48ef6-2d29-4cc9-af31-53da25b5e2bd",
   "metadata": {},
   "source": [
    "### Mappings for User/Items"
   ]
  },
  {
   "cell_type": "code",
   "execution_count": 70,
   "id": "c6e58f00-26f9-47f8-97de-801b9d1c699d",
   "metadata": {},
   "outputs": [],
   "source": [
    "# User Mappings\n",
    "users_map = {i:val for i,val in enumerate(unique_users)}\n",
    "users_inverse_map = {val:i for i,val in enumerate(unique_users)}\n",
    "\n",
    "# Item Mappings\n",
    "items_map = {i:val for i,val in enumerate(unique_items)}\n",
    "items_inverse_map = {val:i for i,val in enumerate(unique_items)}"
   ]
  },
  {
   "cell_type": "code",
   "execution_count": 71,
   "id": "2e1b7b58-d44f-491b-9443-85269f539a4c",
   "metadata": {},
   "outputs": [],
   "source": [
    "users['user_id_encoded'] = users['user_id'].map(users_inverse_map)\n",
    "users['item_id_encoded'] = users['item_id'].map(items_inverse_map)\n",
    "items['item_id_encoded'] = items['item_id'].map(items_inverse_map)"
   ]
  },
  {
   "cell_type": "code",
   "execution_count": 9,
   "id": "3c404f94-521d-418a-b770-6de9bea2daf8",
   "metadata": {},
   "outputs": [
    {
     "data": {
      "text/html": [
       "<div>\n",
       "<style scoped>\n",
       "    .dataframe tbody tr th:only-of-type {\n",
       "        vertical-align: middle;\n",
       "    }\n",
       "\n",
       "    .dataframe tbody tr th {\n",
       "        vertical-align: top;\n",
       "    }\n",
       "\n",
       "    .dataframe thead th {\n",
       "        text-align: right;\n",
       "    }\n",
       "</style>\n",
       "<table border=\"1\" class=\"dataframe\">\n",
       "  <thead>\n",
       "    <tr style=\"text-align: right;\">\n",
       "      <th></th>\n",
       "      <th>user_id</th>\n",
       "      <th>item_id</th>\n",
       "      <th>level</th>\n",
       "      <th>view_time</th>\n",
       "      <th>user_id_encoded</th>\n",
       "      <th>item_id_encoded</th>\n",
       "    </tr>\n",
       "  </thead>\n",
       "  <tbody>\n",
       "    <tr>\n",
       "      <th>0</th>\n",
       "      <td>1</td>\n",
       "      <td>aws-certified-solutions-architect-professional</td>\n",
       "      <td>Advanced</td>\n",
       "      <td>102</td>\n",
       "      <td>0</td>\n",
       "      <td>587</td>\n",
       "    </tr>\n",
       "    <tr>\n",
       "      <th>1</th>\n",
       "      <td>1</td>\n",
       "      <td>aws-certified-sysops-admin-associate</td>\n",
       "      <td>Intermediate</td>\n",
       "      <td>83</td>\n",
       "      <td>0</td>\n",
       "      <td>588</td>\n",
       "    </tr>\n",
       "    <tr>\n",
       "      <th>2</th>\n",
       "      <td>1</td>\n",
       "      <td>aws-system-admin-fundamentals</td>\n",
       "      <td>Beginner</td>\n",
       "      <td>2665</td>\n",
       "      <td>0</td>\n",
       "      <td>607</td>\n",
       "    </tr>\n",
       "    <tr>\n",
       "      <th>3</th>\n",
       "      <td>1</td>\n",
       "      <td>cpt-sp2010-web-designers-branding-intro</td>\n",
       "      <td>Beginner</td>\n",
       "      <td>4884</td>\n",
       "      <td>0</td>\n",
       "      <td>1279</td>\n",
       "    </tr>\n",
       "    <tr>\n",
       "      <th>4</th>\n",
       "      <td>1</td>\n",
       "      <td>cpt-sp2010-web-designers-css</td>\n",
       "      <td>Intermediate</td>\n",
       "      <td>4959</td>\n",
       "      <td>0</td>\n",
       "      <td>1281</td>\n",
       "    </tr>\n",
       "  </tbody>\n",
       "</table>\n",
       "</div>"
      ],
      "text/plain": [
       "   user_id                                         item_id         level  \\\n",
       "0        1  aws-certified-solutions-architect-professional      Advanced   \n",
       "1        1            aws-certified-sysops-admin-associate  Intermediate   \n",
       "2        1                   aws-system-admin-fundamentals      Beginner   \n",
       "3        1         cpt-sp2010-web-designers-branding-intro      Beginner   \n",
       "4        1                    cpt-sp2010-web-designers-css  Intermediate   \n",
       "\n",
       "   view_time  user_id_encoded  item_id_encoded  \n",
       "0        102                0              587  \n",
       "1         83                0              588  \n",
       "2       2665                0              607  \n",
       "3       4884                0             1279  \n",
       "4       4959                0             1281  "
      ]
     },
     "execution_count": 9,
     "metadata": {},
     "output_type": "execute_result"
    }
   ],
   "source": [
    "users.head()"
   ]
  },
  {
   "cell_type": "code",
   "execution_count": 10,
   "id": "27444785-5136-47ee-bebd-c72e540d43b1",
   "metadata": {},
   "outputs": [
    {
     "data": {
      "text/html": [
       "<div>\n",
       "<style scoped>\n",
       "    .dataframe tbody tr th:only-of-type {\n",
       "        vertical-align: middle;\n",
       "    }\n",
       "\n",
       "    .dataframe tbody tr th {\n",
       "        vertical-align: top;\n",
       "    }\n",
       "\n",
       "    .dataframe thead th {\n",
       "        text-align: right;\n",
       "    }\n",
       "</style>\n",
       "<table border=\"1\" class=\"dataframe\">\n",
       "  <thead>\n",
       "    <tr style=\"text-align: right;\">\n",
       "      <th></th>\n",
       "      <th>item_id</th>\n",
       "      <th>course_tags</th>\n",
       "      <th>item_id_encoded</th>\n",
       "    </tr>\n",
       "  </thead>\n",
       "  <tbody>\n",
       "    <tr>\n",
       "      <th>2490</th>\n",
       "      <td>cpt-sp2010-web-designers-css</td>\n",
       "      <td>sharepoint</td>\n",
       "      <td>1281</td>\n",
       "    </tr>\n",
       "  </tbody>\n",
       "</table>\n",
       "</div>"
      ],
      "text/plain": [
       "                           item_id course_tags  item_id_encoded\n",
       "2490  cpt-sp2010-web-designers-css  sharepoint             1281"
      ]
     },
     "execution_count": 10,
     "metadata": {},
     "output_type": "execute_result"
    }
   ],
   "source": [
    "items[items['item_id'] == 'cpt-sp2010-web-designers-css']"
   ]
  },
  {
   "cell_type": "markdown",
   "id": "e6af92bb-ff76-437c-a740-582f4d5fb595",
   "metadata": {},
   "source": [
    "### Create Explicit Data"
   ]
  },
  {
   "cell_type": "code",
   "execution_count": 11,
   "id": "ae2b6aee-9337-4194-8c01-7682b4a43755",
   "metadata": {},
   "outputs": [],
   "source": [
    "ratings = users.copy()\n",
    "ratings['rating'] = [np.random.randint(1,5) for i in range(ratings.shape[0])]"
   ]
  },
  {
   "cell_type": "markdown",
   "id": "cd1406a9-9f9a-46c1-a05f-8b925f37577e",
   "metadata": {},
   "source": [
    "### Train/Test Split"
   ]
  },
  {
   "cell_type": "code",
   "execution_count": 12,
   "id": "8fadded3-228c-4541-86b9-f4722506664a",
   "metadata": {},
   "outputs": [
    {
     "name": "stdout",
     "output_type": "stream",
     "text": [
      "Train Shape: (77544, 7) -- Test Shape: (19386, 7)\n"
     ]
    }
   ],
   "source": [
    "def split_train_test(data:pd.DataFrame, split_ratio:float) -> np.ndarray:\n",
    "    \"\"\" Split Train/Test Dataset\"\"\"\n",
    "    idx = int(np.ceil(len(ratings) * split_ratio))\n",
    "    train,test = data[:-idx], data[-idx:]\n",
    "    print(f'Train Shape: {train.shape} -- Test Shape: {test.shape}')\n",
    "    return train,test\n",
    "    \n",
    "train,test = split_train_test(ratings,split_ratio=0.20)"
   ]
  },
  {
   "cell_type": "markdown",
   "id": "1abc0505-aafc-44cd-8500-3437c0e7aabf",
   "metadata": {},
   "source": [
    "### Matrix Factorization Model\n",
    "\n",
    "[Reference](https://colab.research.google.com/github/google/eng-edu/blob/main/ml/recommendation-systems/recommendation-systems.ipynb?utm_source=ss-recommendation-systems&utm_campaign=colab-external&utm_medium=referral&utm_content=recommendation-systems#scrollTo=_BlRIQJYo4tt)\n",
    "\n",
    "Our goal is to factorize the ratings matrix $A$ into the product of a user embedding matrix $U$ and items embedding matrix $V$, such that $A \\approx UV^\\top$ with\n",
    "\n",
    "$U = \\begin{bmatrix} u_{1} \\\\ \\hline \\vdots \\\\ \\hline u_{N} \\end{bmatrix}$ and\n",
    "$V = \\begin{bmatrix} v_{1} \\\\ \\hline \\vdots \\\\ \\hline v_{M} \\end{bmatrix}$.\n",
    "\n",
    "Here\n",
    "- $N$ is the number of users,\n",
    "- $M$ is the number of items,\n",
    "- $A_{ij}$ is the rating of the $j$th items by the $i$th user,\n",
    "- Each row $U_i$ is a $d$-dimensional vector (embedding) representing user $i$,\n",
    "- Each row $V_j$ is a $d$-dimensional vector (embedding) representing items $j$,\n",
    "- Predictions: for the $(i, j)$ pair is the dot product $\\langle U_i, V_j \\rangle$."
   ]
  },
  {
   "cell_type": "markdown",
   "id": "a18caa32-0745-4ece-9c78-9cb3a154a729",
   "metadata": {},
   "source": [
    "### Calculate Error\n",
    "\n",
    "The model approximates the ratings matrix $A$ by a low-rank product $UV^\\top$. We need a way to measure the approximation error. We'll start by using the Mean Squared Error of observed entries only (we will revisit this later). It is defined as\n",
    "\n",
    "$$\n",
    "\\begin{align*}\n",
    "\\text{MSE}(A, UV^\\top)\n",
    "&= \\frac{1}{|\\Omega|}\\sum_{(i, j) \\in\\Omega}{( A_{ij} - (UV^\\top)_{ij})^2} \\\\\n",
    "&= \\frac{1}{|\\Omega|}\\sum_{(i, j) \\in\\Omega}{( A_{ij} - \\langle U_i, V_j\\rangle)^2}\n",
    "\\end{align*}\n",
    "$$\n",
    "where $\\Omega$ is the set of observed ratings, and $|\\Omega|$ is the cardinality of $\\Omega$."
   ]
  },
  {
   "cell_type": "markdown",
   "id": "6725fc07-54b0-4eb3-aa15-ecd799ef546b",
   "metadata": {},
   "source": [
    "### Train Matrix Factorization Model using Stochastic Gradient Descent with Keras"
   ]
  },
  {
   "cell_type": "markdown",
   "id": "27485aba-8b25-42fe-85c0-ed903994a3bd",
   "metadata": {},
   "source": [
    "- The user-movie rating matrix is high dimensional and sparse, therefore I am going to reduce the dimensionality to represent the data in a dense form.\n",
    "- Using matrix factorisation a large matrix can be estimated/decomposed into two long but slim matrices. \n",
    "- With gradient descent it is possible to adjust these matrices to represent the given ratings. \n",
    "- The gradient descent algorithm finds latent variables which represent the underlying structure of the dataset. Afterwards these latent variables can be used to reconstruct the original matrix and to predict the missing ratings for each user.\n",
    "- In this case the model has not been trained to convergence and is not hyperparameter optimized."
   ]
  },
  {
   "cell_type": "markdown",
   "id": "549b3762-60b3-41e9-90c1-251e225d76a0",
   "metadata": {},
   "source": [
    "____\n",
    "## Generalized Matrix Factorization (GMF)\n",
    "\n",
    "- Ouput Layer = Dot Product"
   ]
  },
  {
   "cell_type": "code",
   "execution_count": 46,
   "id": "c9613dbe-4fc1-4833-8e2a-3c5f9734845f",
   "metadata": {},
   "outputs": [],
   "source": [
    "%autoreload\n",
    "from recommenders.matrix_factorization import MatrixFactorization"
   ]
  },
  {
   "cell_type": "code",
   "execution_count": 47,
   "id": "a583ac8b-ed35-421d-9395-55f2d87cdf5a",
   "metadata": {},
   "outputs": [],
   "source": [
    "MF = MatrixFactorization(unique_users,\n",
    "                             unique_items,\n",
    "                             embedding_dim=32,\n",
    "                             epochs=50,\n",
    "                             batch_size=256)"
   ]
  },
  {
   "cell_type": "code",
   "execution_count": 48,
   "id": "3ff3a223-a513-4070-9796-33c10f1c1920",
   "metadata": {},
   "outputs": [
    {
     "name": "stdout",
     "output_type": "stream",
     "text": [
      "Epoch 1/50\n",
      "258/258 [==============================] - 1s 2ms/step - loss: 7.4861 - val_loss: 7.4298\n",
      "Epoch 2/50\n",
      "258/258 [==============================] - 0s 2ms/step - loss: 7.2862 - val_loss: 7.4289\n",
      "Epoch 3/50\n",
      "258/258 [==============================] - 0s 2ms/step - loss: 5.7657 - val_loss: 7.4226\n",
      "Epoch 4/50\n",
      "258/258 [==============================] - 0s 2ms/step - loss: 3.6646 - val_loss: 7.4182\n",
      "Epoch 5/50\n",
      "258/258 [==============================] - 0s 2ms/step - loss: 2.4993 - val_loss: 7.4179\n",
      "Epoch 6/50\n",
      "258/258 [==============================] - 1s 2ms/step - loss: 1.9024 - val_loss: 7.4190\n",
      "Epoch 7/50\n",
      "258/258 [==============================] - 1s 2ms/step - loss: 1.5717 - val_loss: 7.4202\n",
      "Epoch 8/50\n",
      "258/258 [==============================] - 0s 2ms/step - loss: 1.3705 - val_loss: 7.4215\n",
      "Epoch 9/50\n",
      "258/258 [==============================] - 0s 2ms/step - loss: 1.2349 - val_loss: 7.4226\n",
      "Epoch 10/50\n",
      "258/258 [==============================] - 0s 2ms/step - loss: 1.1365 - val_loss: 7.4236\n",
      "2424/2424 [==============================] - 2s 803us/step - loss: 1.9965\n"
     ]
    },
    {
     "name": "stderr",
     "output_type": "stream",
     "text": [
      "2021-08-01 20:52:00,533 - recommenders.matrix_factorization INFO - train mean squared error: 1.9965\n"
     ]
    }
   ],
   "source": [
    "%autoreload\n",
    "history = MF.train([train['user_id_encoded'],train['item_id_encoded']], train['rating'])\n",
    "model = MF.model"
   ]
  },
  {
   "cell_type": "markdown",
   "id": "89848774-bfef-4d86-a687-4ee2673dcbc8",
   "metadata": {},
   "source": [
    "### Evaluate Model"
   ]
  },
  {
   "cell_type": "code",
   "execution_count": 76,
   "id": "8a0e8926-414a-4036-a05c-66a90548cffc",
   "metadata": {},
   "outputs": [
    {
     "name": "stdout",
     "output_type": "stream",
     "text": [
      "606/606 [==============================] - 0s 787us/step - loss: 7.5040\n"
     ]
    },
    {
     "name": "stderr",
     "output_type": "stream",
     "text": [
      "2021-08-01 16:37:55,148 - recommenders.matrix_factorization INFO - test mean squared error: 7.5040\n"
     ]
    }
   ],
   "source": [
    "MF._evaluate([test['user_id_encoded'],test['item_id_encoded']], test['rating'], 'test')"
   ]
  },
  {
   "cell_type": "markdown",
   "id": "4560e3ce-56d5-4e96-915a-f8e17386e04e",
   "metadata": {},
   "source": [
    "### Model Summary (GMF)"
   ]
  },
  {
   "cell_type": "code",
   "execution_count": 77,
   "id": "7fd396ac-2b44-436b-be20-09efbb889d82",
   "metadata": {},
   "outputs": [
    {
     "name": "stdout",
     "output_type": "stream",
     "text": [
      "Model: \"model_11\"\n",
      "__________________________________________________________________________________________________\n",
      "Layer (type)                    Output Shape         Param #     Connected to                     \n",
      "==================================================================================================\n",
      "user (InputLayer)               [(None, 1)]          0                                            \n",
      "__________________________________________________________________________________________________\n",
      "item (InputLayer)               [(None, 1)]          0                                            \n",
      "__________________________________________________________________________________________________\n",
      "user_embedding (Embedding)      (None, 1, 32)        154240      user[0][0]                       \n",
      "__________________________________________________________________________________________________\n",
      "item_embedding (Embedding)      (None, 1, 32)        190144      item[0][0]                       \n",
      "__________________________________________________________________________________________________\n",
      "flatten_24 (Flatten)            (None, 32)           0           user_embedding[0][0]             \n",
      "__________________________________________________________________________________________________\n",
      "flatten_25 (Flatten)            (None, 32)           0           item_embedding[0][0]             \n",
      "__________________________________________________________________________________________________\n",
      "dot (Dot)                       (None, 1)            0           flatten_24[0][0]                 \n",
      "                                                                 flatten_25[0][0]                 \n",
      "==================================================================================================\n",
      "Total params: 344,384\n",
      "Trainable params: 344,384\n",
      "Non-trainable params: 0\n",
      "__________________________________________________________________________________________________\n"
     ]
    }
   ],
   "source": [
    "model.summary()"
   ]
  },
  {
   "cell_type": "markdown",
   "id": "214e21d0-6c91-4f4a-955c-494bafd06b54",
   "metadata": {},
   "source": [
    "### Recommend Similar Users"
   ]
  },
  {
   "cell_type": "markdown",
   "id": "4ddeb344-2a38-4fde-98a3-db555f1706c1",
   "metadata": {},
   "source": [
    "**Approximate Nearest Neighbor**"
   ]
  },
  {
   "cell_type": "code",
   "execution_count": 89,
   "id": "7f46213a-4a1c-4116-8d7c-611ea63afa53",
   "metadata": {},
   "outputs": [
    {
     "name": "stdout",
     "output_type": "stream",
     "text": [
      "CPU times: user 82 µs, sys: 1 µs, total: 83 µs\n",
      "Wall time: 88 µs\n"
     ]
    },
    {
     "data": {
      "text/plain": [
       "[(1, 0.9998596805817215),\n",
       " (159, 0.4351388216018677),\n",
       " (933, 0.42210930585861206),\n",
       " (1935, 0.4214569330215454),\n",
       " (832, 0.4207218885421753),\n",
       " (1350, 0.390053927898407),\n",
       " (2702, 0.3681052327156067),\n",
       " (3094, 0.3662617802619934),\n",
       " (453, 0.35368824005126953),\n",
       " (1417, 0.35272449254989624)]"
      ]
     },
     "execution_count": 89,
     "metadata": {},
     "output_type": "execute_result"
    }
   ],
   "source": [
    "factors = model.get_weights()[0]\n",
    "NN = ApproximateTopRelated(factors)\n",
    "%time NN.get_related(idx=1)"
   ]
  },
  {
   "cell_type": "markdown",
   "id": "733db20b-d0d1-4807-a123-79a9fe2d4fd8",
   "metadata": {},
   "source": [
    "**Cosine Similarity**"
   ]
  },
  {
   "cell_type": "code",
   "execution_count": 54,
   "id": "6fb1db5e-7ad6-44ed-8392-52632fe954b2",
   "metadata": {},
   "outputs": [
    {
     "name": "stdout",
     "output_type": "stream",
     "text": [
      "CPU times: user 2.4 s, sys: 257 ms, total: 2.65 s\n",
      "Wall time: 2.23 s\n",
      "Similar Users: [2975 3100  330 2703 1466]\n"
     ]
    }
   ],
   "source": [
    "%time similar_users = cosine_similarity(user=1,user_weights=model.get_weights()[0],top_k=5)\n",
    "print('Similar Users:', similar_users)"
   ]
  },
  {
   "cell_type": "markdown",
   "id": "e784feb9-891b-4a2d-86d6-de530093ebb1",
   "metadata": {},
   "source": [
    "### Evaluate Model"
   ]
  },
  {
   "cell_type": "code",
   "execution_count": 38,
   "id": "d325ca64-64ab-4ad0-916c-ace45f633538",
   "metadata": {},
   "outputs": [
    {
     "name": "stderr",
     "output_type": "stream",
     "text": [
      "/Users/tracesmith/Desktop/Trace/Coding/user-recommender/recommenders/utils/plots.py:22: MatplotlibDeprecationWarning: Passing non-integers as three-element position specification is deprecated since 3.3 and will be removed two minor releases later.\n",
      "  ax = fig.add_subplot(n_rows, n_cols, idx + 1)\n"
     ]
    },
    {
     "data": {
      "image/png": "[encoded data removed]",
      "text/plain": [
       "<Figure size 1152x396 with 1 Axes>"
      ]
     },
     "metadata": {
      "needs_background": "light"
     },
     "output_type": "display_data"
    }
   ],
   "source": [
    "%autoreload\n",
    "plot_metrics(history,metrics=['loss'])"
   ]
  },
  {
   "cell_type": "markdown",
   "id": "b0e5d0b6-958f-418c-8942-8a22d1e964f1",
   "metadata": {},
   "source": [
    "### Make Recommendation\n",
    "\n",
    "- Given an input user - return prediction of recommended items"
   ]
  },
  {
   "cell_type": "code",
   "execution_count": 100,
   "id": "21a28d56-a15e-45ef-9036-02276d6ea9df",
   "metadata": {},
   "outputs": [
    {
     "data": {
      "text/plain": [
       "['character-rigging-production-maya-321',\n",
       " 'introduction-houdini-digital-assets-2499',\n",
       " 'unity-mobile-game-dev-lighting-lightmapping-606',\n",
       " 'introduction-houdini-pyro-2504',\n",
       " 'melee-weapon-systems-unity-659']"
      ]
     },
     "execution_count": 100,
     "metadata": {},
     "output_type": "execute_result"
    }
   ],
   "source": [
    "get_recommendations(0,items['item_id_encoded'].unique(),items_map,model,5)"
   ]
  },
  {
   "cell_type": "markdown",
   "id": "3a7e2027-c97e-402c-b795-fff53d8bec77",
   "metadata": {},
   "source": [
    "_______\n",
    "## Deep Matrix Factorization (NMF)\n",
    "\n",
    "- Ouput Layer = Non-linear "
   ]
  },
  {
   "cell_type": "code",
   "execution_count": 92,
   "id": "02bd2457-b35e-46bf-ac06-57582791f971",
   "metadata": {},
   "outputs": [],
   "source": [
    "%autoreload\n",
    "from recommenders.matrix_factorization import DeepMatrixFactorization\n",
    "NMF = NeuralMatrixFactorization(unique_users,\n",
    "                             unique_items,\n",
    "                             embedding_dim=64,\n",
    "                             epochs=10,\n",
    "                             batch_size=100, \n",
    "                             layers=[128,64,32,18],\n",
    "                             dropout=0.10)"
   ]
  },
  {
   "cell_type": "code",
   "execution_count": 93,
   "id": "0ad4be97-05b5-43e8-8ff7-e3afb977f410",
   "metadata": {},
   "outputs": [
    {
     "name": "stdout",
     "output_type": "stream",
     "text": [
      "Epoch 1/10\n",
      "660/660 [==============================] - 3s 3ms/step - loss: 2.2303 - val_loss: 1.3468\n",
      "Epoch 2/10\n",
      "660/660 [==============================] - 2s 3ms/step - loss: 1.4263 - val_loss: 1.2881\n",
      "Epoch 3/10\n",
      "660/660 [==============================] - 2s 3ms/step - loss: 1.3591 - val_loss: 1.2988\n",
      "Epoch 4/10\n",
      "660/660 [==============================] - 2s 3ms/step - loss: 1.3152 - val_loss: 1.2915\n",
      "Epoch 5/10\n",
      "660/660 [==============================] - 2s 3ms/step - loss: 1.2867 - val_loss: 1.3010\n",
      "Epoch 6/10\n",
      "660/660 [==============================] - 2s 3ms/step - loss: 1.2619 - val_loss: 1.3079\n",
      "Epoch 7/10\n",
      "660/660 [==============================] - 2s 3ms/step - loss: 1.2490 - val_loss: 1.3218\n",
      "2424/2424 [==============================] - 3s 1ms/step - loss: 1.1838\n"
     ]
    },
    {
     "name": "stderr",
     "output_type": "stream",
     "text": [
      "2021-08-01 21:15:01,385 - recommenders.matrix_factorization INFO - train mean squared error: 1.1838\n"
     ]
    }
   ],
   "source": [
    "%autoreload\n",
    "history2 = NMF.train([train['user_id_encoded'],train['item_id_encoded']], train['rating'])\n",
    "model2 = NMF.model"
   ]
  },
  {
   "cell_type": "markdown",
   "id": "ff71b7ac-6449-40a4-81f7-3d0e77cac63a",
   "metadata": {},
   "source": [
    "### Evaluate on Test Dataset"
   ]
  },
  {
   "cell_type": "code",
   "execution_count": 34,
   "id": "dea1a4a4-7a34-48b6-93a7-0d0b7d0fc9f2",
   "metadata": {},
   "outputs": [
    {
     "name": "stdout",
     "output_type": "stream",
     "text": [
      "606/606 [==============================] - 1s 1ms/step - loss: 1.3237\n"
     ]
    },
    {
     "name": "stderr",
     "output_type": "stream",
     "text": [
      "2021-08-01 17:04:45,487 - recommenders.matrix_factorization INFO - test mean squared error: 1.3237\n"
     ]
    }
   ],
   "source": [
    "NMF._evaluate([test['user_id_encoded'],test['item_id_encoded']], test['rating'], 'test')"
   ]
  },
  {
   "cell_type": "markdown",
   "id": "2203c20e-7179-44ca-910d-30398a3b9ce4",
   "metadata": {},
   "source": [
    "### Model Summary"
   ]
  },
  {
   "cell_type": "code",
   "execution_count": 23,
   "id": "064d8df1-e59e-4f9b-87e2-5ade36a668ed",
   "metadata": {},
   "outputs": [
    {
     "name": "stdout",
     "output_type": "stream",
     "text": [
      "Model: \"model_1\"\n",
      "__________________________________________________________________________________________________\n",
      "Layer (type)                    Output Shape         Param #     Connected to                     \n",
      "==================================================================================================\n",
      "user (InputLayer)               [(None, 1)]          0                                            \n",
      "__________________________________________________________________________________________________\n",
      "item (InputLayer)               [(None, 1)]          0                                            \n",
      "__________________________________________________________________________________________________\n",
      "user_embedding (Embedding)      (None, 1, 64)        308480      user[0][0]                       \n",
      "__________________________________________________________________________________________________\n",
      "item_embedding (Embedding)      (None, 1, 64)        380288      item[0][0]                       \n",
      "__________________________________________________________________________________________________\n",
      "reshape_5 (Reshape)             (None, 64)           0           user_embedding[0][0]             \n",
      "__________________________________________________________________________________________________\n",
      "reshape_6 (Reshape)             (None, 64)           0           item_embedding[0][0]             \n",
      "__________________________________________________________________________________________________\n",
      "concatenate_1 (Concatenate)     (None, 128)          0           reshape_5[0][0]                  \n",
      "                                                                 reshape_6[0][0]                  \n",
      "__________________________________________________________________________________________________\n",
      "layer1 (Dense)                  (None, 128)          16512       concatenate_1[0][0]              \n",
      "__________________________________________________________________________________________________\n",
      "dropout (Dropout)               (None, 128)          0           layer1[0][0]                     \n",
      "__________________________________________________________________________________________________\n",
      "layer2 (Dense)                  (None, 64)           8256        dropout[0][0]                    \n",
      "__________________________________________________________________________________________________\n",
      "dropout_1 (Dropout)             (None, 64)           0           layer2[0][0]                     \n",
      "__________________________________________________________________________________________________\n",
      "layer3 (Dense)                  (None, 32)           2080        dropout_1[0][0]                  \n",
      "__________________________________________________________________________________________________\n",
      "dropout_2 (Dropout)             (None, 32)           0           layer3[0][0]                     \n",
      "__________________________________________________________________________________________________\n",
      "layer4 (Dense)                  (None, 18)           594         dropout_2[0][0]                  \n",
      "__________________________________________________________________________________________________\n",
      "dropout_3 (Dropout)             (None, 18)           0           layer4[0][0]                     \n",
      "__________________________________________________________________________________________________\n",
      "prediction (Dense)              (None, 1)            19          dropout_3[0][0]                  \n",
      "==================================================================================================\n",
      "Total params: 716,229\n",
      "Trainable params: 716,229\n",
      "Non-trainable params: 0\n",
      "__________________________________________________________________________________________________\n"
     ]
    }
   ],
   "source": [
    "model2.summary()"
   ]
  },
  {
   "cell_type": "code",
   "execution_count": 35,
   "id": "06f0b1f0-3022-49a9-a58b-c229c49fa78a",
   "metadata": {},
   "outputs": [
    {
     "name": "stderr",
     "output_type": "stream",
     "text": [
      "/Users/tracesmith/Desktop/Trace/Coding/user-recommender/recommenders/utils/plots.py:22: MatplotlibDeprecationWarning: Passing non-integers as three-element position specification is deprecated since 3.3 and will be removed two minor releases later.\n",
      "  ax = fig.add_subplot(n_rows, n_cols, idx + 1)\n"
     ]
    },
    {
     "data": {
      "image/png": "[encoded data removed]",
      "text/plain": [
       "<Figure size 1152x396 with 1 Axes>"
      ]
     },
     "metadata": {
      "needs_background": "light"
     },
     "output_type": "display_data"
    }
   ],
   "source": [
    "%autoreload\n",
    "plot_metrics(history2,metrics=['loss'])"
   ]
  },
  {
   "cell_type": "markdown",
   "id": "d4a92e37-622f-40c9-9ffe-9e1dfd94f5dd",
   "metadata": {},
   "source": [
    "### Similar Users"
   ]
  },
  {
   "cell_type": "markdown",
   "id": "bddf46e8-d17c-449e-954a-f7d80f12055a",
   "metadata": {},
   "source": [
    "**Approximate Nearest Neighbor**"
   ]
  },
  {
   "cell_type": "code",
   "execution_count": 100,
   "id": "f9bedda0-1266-4a60-945a-5ae502bdfee9",
   "metadata": {},
   "outputs": [
    {
     "name": "stdout",
     "output_type": "stream",
     "text": [
      "CPU times: user 109 µs, sys: 1e+03 ns, total: 110 µs\n",
      "Wall time: 116 µs\n"
     ]
    },
    {
     "data": {
      "text/plain": [
       "[(0, 0.9997645245894091),\n",
       " (2755, 0.405689537525177),\n",
       " (106, 0.3864137530326843),\n",
       " (900, 0.38052642345428467),\n",
       " (245, 0.3763904571533203),\n",
       " (2710, 0.37345951795578003),\n",
       " (2077, 0.36551809310913086),\n",
       " (801, 0.3590085506439209),\n",
       " (2900, 0.35138005018234253),\n",
       " (3116, 0.35131603479385376)]"
      ]
     },
     "execution_count": 100,
     "metadata": {},
     "output_type": "execute_result"
    }
   ],
   "source": [
    "factors2 = model2.get_weights()[0]\n",
    "NN = ApproximateTopRelated(factors2)\n",
    "%time NN.get_related(idx=0)"
   ]
  },
  {
   "cell_type": "markdown",
   "id": "8c86dadb-f2a1-4ad1-9a8b-2465a81c6113",
   "metadata": {},
   "source": [
    "**Cosine Similarity**"
   ]
  },
  {
   "cell_type": "code",
   "execution_count": 101,
   "id": "69208759-8aee-42f0-be2c-4374d3f664fd",
   "metadata": {},
   "outputs": [
    {
     "name": "stdout",
     "output_type": "stream",
     "text": [
      "CPU times: user 1.98 s, sys: 273 ms, total: 2.25 s\n",
      "Wall time: 1.82 s\n",
      "Similar Users: [1599 1601 1602 1603 1604]\n"
     ]
    }
   ],
   "source": [
    "%time similar_users = cosine_similarity(user=0,user_weights=model2.get_weights()[0],top_k=5)\n",
    "print('Similar Users:', similar_users)"
   ]
  },
  {
   "cell_type": "code",
   "execution_count": 98,
   "id": "77b86f68-20a2-48d7-ba51-d6d20f5593dd",
   "metadata": {},
   "outputs": [
    {
     "data": {
      "text/html": [
       "<div>\n",
       "<style scoped>\n",
       "    .dataframe tbody tr th:only-of-type {\n",
       "        vertical-align: middle;\n",
       "    }\n",
       "\n",
       "    .dataframe tbody tr th {\n",
       "        vertical-align: top;\n",
       "    }\n",
       "\n",
       "    .dataframe thead th {\n",
       "        text-align: right;\n",
       "    }\n",
       "</style>\n",
       "<table border=\"1\" class=\"dataframe\">\n",
       "  <thead>\n",
       "    <tr style=\"text-align: right;\">\n",
       "      <th></th>\n",
       "      <th>user_id</th>\n",
       "      <th>item_id</th>\n",
       "      <th>level</th>\n",
       "      <th>view_time</th>\n",
       "      <th>user_id_encoded</th>\n",
       "      <th>item_id_encoded</th>\n",
       "      <th>rating</th>\n",
       "    </tr>\n",
       "  </thead>\n",
       "  <tbody>\n",
       "    <tr>\n",
       "      <th>0</th>\n",
       "      <td>1</td>\n",
       "      <td>aws-certified-solutions-architect-professional</td>\n",
       "      <td>Advanced</td>\n",
       "      <td>102</td>\n",
       "      <td>0</td>\n",
       "      <td>587</td>\n",
       "      <td>4</td>\n",
       "    </tr>\n",
       "    <tr>\n",
       "      <th>1</th>\n",
       "      <td>1</td>\n",
       "      <td>aws-certified-sysops-admin-associate</td>\n",
       "      <td>Intermediate</td>\n",
       "      <td>83</td>\n",
       "      <td>0</td>\n",
       "      <td>588</td>\n",
       "      <td>1</td>\n",
       "    </tr>\n",
       "    <tr>\n",
       "      <th>2</th>\n",
       "      <td>1</td>\n",
       "      <td>aws-system-admin-fundamentals</td>\n",
       "      <td>Beginner</td>\n",
       "      <td>2665</td>\n",
       "      <td>0</td>\n",
       "      <td>607</td>\n",
       "      <td>1</td>\n",
       "    </tr>\n",
       "    <tr>\n",
       "      <th>3</th>\n",
       "      <td>1</td>\n",
       "      <td>cpt-sp2010-web-designers-branding-intro</td>\n",
       "      <td>Beginner</td>\n",
       "      <td>4884</td>\n",
       "      <td>0</td>\n",
       "      <td>1279</td>\n",
       "      <td>3</td>\n",
       "    </tr>\n",
       "    <tr>\n",
       "      <th>4</th>\n",
       "      <td>1</td>\n",
       "      <td>cpt-sp2010-web-designers-css</td>\n",
       "      <td>Intermediate</td>\n",
       "      <td>4959</td>\n",
       "      <td>0</td>\n",
       "      <td>1281</td>\n",
       "      <td>2</td>\n",
       "    </tr>\n",
       "    <tr>\n",
       "      <th>5</th>\n",
       "      <td>1</td>\n",
       "      <td>react-js-getting-started</td>\n",
       "      <td>Beginner</td>\n",
       "      <td>3593</td>\n",
       "      <td>0</td>\n",
       "      <td>4248</td>\n",
       "      <td>1</td>\n",
       "    </tr>\n",
       "  </tbody>\n",
       "</table>\n",
       "</div>"
      ],
      "text/plain": [
       "   user_id                                         item_id         level  \\\n",
       "0        1  aws-certified-solutions-architect-professional      Advanced   \n",
       "1        1            aws-certified-sysops-admin-associate  Intermediate   \n",
       "2        1                   aws-system-admin-fundamentals      Beginner   \n",
       "3        1         cpt-sp2010-web-designers-branding-intro      Beginner   \n",
       "4        1                    cpt-sp2010-web-designers-css  Intermediate   \n",
       "5        1                        react-js-getting-started      Beginner   \n",
       "\n",
       "   view_time  user_id_encoded  item_id_encoded  rating  \n",
       "0        102                0              587       4  \n",
       "1         83                0              588       1  \n",
       "2       2665                0              607       1  \n",
       "3       4884                0             1279       3  \n",
       "4       4959                0             1281       2  \n",
       "5       3593                0             4248       1  "
      ]
     },
     "execution_count": 98,
     "metadata": {},
     "output_type": "execute_result"
    }
   ],
   "source": [
    "ratings[ratings['user_id_encoded'] == 0]"
   ]
  },
  {
   "cell_type": "code",
   "execution_count": 102,
   "id": "28f6df4e-ee3e-4b6b-b5dd-7aed75587ff0",
   "metadata": {},
   "outputs": [
    {
     "data": {
      "text/html": [
       "<div>\n",
       "<style scoped>\n",
       "    .dataframe tbody tr th:only-of-type {\n",
       "        vertical-align: middle;\n",
       "    }\n",
       "\n",
       "    .dataframe tbody tr th {\n",
       "        vertical-align: top;\n",
       "    }\n",
       "\n",
       "    .dataframe thead th {\n",
       "        text-align: right;\n",
       "    }\n",
       "</style>\n",
       "<table border=\"1\" class=\"dataframe\">\n",
       "  <thead>\n",
       "    <tr style=\"text-align: right;\">\n",
       "      <th></th>\n",
       "      <th>user_id</th>\n",
       "      <th>item_id</th>\n",
       "      <th>level</th>\n",
       "      <th>view_time</th>\n",
       "      <th>user_id_encoded</th>\n",
       "      <th>item_id_encoded</th>\n",
       "    </tr>\n",
       "  </thead>\n",
       "  <tbody>\n",
       "    <tr>\n",
       "      <th>54421</th>\n",
       "      <td>5581</td>\n",
       "      <td>administrating-office-365-identities-70-346</td>\n",
       "      <td>Intermediate</td>\n",
       "      <td>357</td>\n",
       "      <td>2755</td>\n",
       "      <td>75</td>\n",
       "    </tr>\n",
       "    <tr>\n",
       "      <th>54422</th>\n",
       "      <td>5581</td>\n",
       "      <td>angular-application-development</td>\n",
       "      <td>Intermediate</td>\n",
       "      <td>1413</td>\n",
       "      <td>2755</td>\n",
       "      <td>290</td>\n",
       "    </tr>\n",
       "    <tr>\n",
       "      <th>54423</th>\n",
       "      <td>5581</td>\n",
       "      <td>angularjs-patterns-clean-code</td>\n",
       "      <td>Beginner</td>\n",
       "      <td>949</td>\n",
       "      <td>2755</td>\n",
       "      <td>308</td>\n",
       "    </tr>\n",
       "    <tr>\n",
       "      <th>54424</th>\n",
       "      <td>5581</td>\n",
       "      <td>exchange-2013-admin-adv-ft</td>\n",
       "      <td>Intermediate</td>\n",
       "      <td>1524</td>\n",
       "      <td>2755</td>\n",
       "      <td>1866</td>\n",
       "    </tr>\n",
       "    <tr>\n",
       "      <th>54425</th>\n",
       "      <td>5581</td>\n",
       "      <td>exchange-2013-admin-install</td>\n",
       "      <td>Intermediate</td>\n",
       "      <td>1850</td>\n",
       "      <td>2755</td>\n",
       "      <td>1868</td>\n",
       "    </tr>\n",
       "  </tbody>\n",
       "</table>\n",
       "</div>"
      ],
      "text/plain": [
       "       user_id                                      item_id         level  \\\n",
       "54421     5581  administrating-office-365-identities-70-346  Intermediate   \n",
       "54422     5581              angular-application-development  Intermediate   \n",
       "54423     5581                angularjs-patterns-clean-code      Beginner   \n",
       "54424     5581                   exchange-2013-admin-adv-ft  Intermediate   \n",
       "54425     5581                  exchange-2013-admin-install  Intermediate   \n",
       "\n",
       "       view_time  user_id_encoded  item_id_encoded  \n",
       "54421        357             2755               75  \n",
       "54422       1413             2755              290  \n",
       "54423        949             2755              308  \n",
       "54424       1524             2755             1866  \n",
       "54425       1850             2755             1868  "
      ]
     },
     "execution_count": 102,
     "metadata": {},
     "output_type": "execute_result"
    }
   ],
   "source": [
    "users[users['user_id_encoded'] == 2755].head()"
   ]
  },
  {
   "cell_type": "markdown",
   "id": "361aed70-4d60-4ac4-b939-541a0225febc",
   "metadata": {},
   "source": [
    "### Make Recommendations"
   ]
  },
  {
   "cell_type": "code",
   "execution_count": 97,
   "id": "1f68ce4f-3ea8-464d-8323-8fce00300860",
   "metadata": {},
   "outputs": [
    {
     "data": {
      "text/plain": [
       "['understanding-java-vm-class-loading-reflection',\n",
       " 'group-policy-fundamentals',\n",
       " 'windows-server-2012-mcse-70-413',\n",
       " 'v-ray-cinema-4d-look-development-photorealistic-interiors-2554',\n",
       " 'mastering-java-swing-part1']"
      ]
     },
     "execution_count": 97,
     "metadata": {},
     "output_type": "execute_result"
    }
   ],
   "source": [
    "get_recommendations(1,items['item_id_encoded'].unique(),items_map,model2,5)"
   ]
  }
 ],
 "metadata": {
  "kernelspec": {
   "display_name": "pluaral",
   "language": "python",
   "name": "pluaral"
  },
  "language_info": {
   "codemirror_mode": {
    "name": "ipython",
    "version": 3
   },
   "file_extension": ".py",
   "mimetype": "text/x-python",
   "name": "python",
   "nbconvert_exporter": "python",
   "pygments_lexer": "ipython3",
   "version": "3.8.1"
  }
 },
 "nbformat": 4,
 "nbformat_minor": 5
}

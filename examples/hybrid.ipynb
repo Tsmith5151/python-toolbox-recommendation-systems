{
 "cells": [
  {
   "cell_type": "markdown",
   "id": "88fb2a2f-4318-4289-9a12-9b64f86e47a3",
   "metadata": {},
   "source": [
    "## Hybrid DNN Recommendation Engine\n",
    "- Check out: https://github.com/NicolasHug/Surprise\n",
    "\n",
    "- In this example, we will explore building a DNN hybrid model using bot user/item embeddings along with  metadata in order to predict ratings. The scenario is given a dataset of users and courses they've viewed, recommend other courses a user may also be interested in. This example is basically a regression problem where we try to predict the ratings for each user and then recommend the highest predicted ratings. "
   ]
  },
  {
   "cell_type": "code",
   "execution_count": 1,
   "id": "3fccbe01-afc0-44ad-930f-7cddbbd4804b",
   "metadata": {},
   "outputs": [
    {
     "name": "stdout",
     "output_type": "stream",
     "text": [
      "/Users/tracesmith/Desktop/Trace/Coding/user-recommender\n"
     ]
    }
   ],
   "source": [
    "%cd .."
   ]
  },
  {
   "cell_type": "code",
   "execution_count": 327,
   "id": "19f36d7d-95aa-43a0-8e18-bd39ef47ad8a",
   "metadata": {},
   "outputs": [
    {
     "name": "stdout",
     "output_type": "stream",
     "text": [
      "The autoreload extension is already loaded. To reload it, use:\n",
      "  %reload_ext autoreload\n"
     ]
    }
   ],
   "source": [
    "%load_ext autoreload\n",
    "%autoreload\n",
    "import os\n",
    "import numpy as np\n",
    "import pandas as pd\n",
    "from typing import List\n",
    "import tensorflow as tf\n",
    "from tqdm import tqdm\n",
    "from recommenders.utils.plots import plot_metrics\n",
    "from sklearn.feature_extraction.text import TfidfVectorizer"
   ]
  },
  {
   "cell_type": "markdown",
   "id": "ce2f5ae9-1221-41cd-ba01-56f5d3ef30d2",
   "metadata": {},
   "source": [
    "### Prepare Dataset"
   ]
  },
  {
   "cell_type": "code",
   "execution_count": 356,
   "id": "c6e58f00-26f9-47f8-97de-801b9d1c699d",
   "metadata": {},
   "outputs": [],
   "source": [
    "# Courses\n",
    "items = pd.read_csv(os.path.join('data','course_tags.csv'))\n",
    "items = items.rename(columns={'course_id':'item_id'})\n",
    "items['item_id'] = items['item_id'].apply(lambda x: ' '.join(x.split('-')))\n",
    "                              \n",
    "# Users\n",
    "users = pd.read_csv(os.path.join('data','user_course_views.csv'))\n",
    "users = users.rename(columns={'user_handle':'user_id',\n",
    "                              'course_id':'item_id',\n",
    "                              'view_time_seconds':'view_time'})\n",
    "users['item_id'] = items['item_id'].apply(lambda x: ' '.join(x.split('-')))\n",
    "\n",
    "# Aggregate user viewing time --> viewed same course multiple times\n",
    "users = users.groupby(['user_id','item_id','level'])['view_time'].sum().reset_index(drop=False)"
   ]
  },
  {
   "cell_type": "markdown",
   "id": "725d4e74-310b-48a2-933a-05c8c398cf15",
   "metadata": {},
   "source": [
    "### Unique User/Items"
   ]
  },
  {
   "cell_type": "code",
   "execution_count": 357,
   "id": "7c41cbda-48e0-410a-afb4-b4e9563a8cc0",
   "metadata": {},
   "outputs": [
    {
     "name": "stdout",
     "output_type": "stream",
     "text": [
      "393 5942\n"
     ]
    }
   ],
   "source": [
    "unique_users = users['user_id'].unique()\n",
    "unique_items = items['item_id'].unique()\n",
    "print(unique_users.shape[0],unique_items.shape[0])"
   ]
  },
  {
   "cell_type": "markdown",
   "id": "0f76c21a-2499-4deb-bba5-999d4f6f0599",
   "metadata": {},
   "source": [
    "### Mappings for User/Items"
   ]
  },
  {
   "cell_type": "code",
   "execution_count": 330,
   "id": "e6e1d5c3-f12e-4931-afb9-bfa973037c71",
   "metadata": {},
   "outputs": [],
   "source": [
    "# User Mappings\n",
    "users_map = {i:val for i,val in enumerate(unique_users)}\n",
    "users_inverse_map = {val:i for i,val in enumerate(unique_users)}\n",
    "\n",
    "# Item Mappings\n",
    "items_map = {i:val for i,val in enumerate(unique_items)}\n",
    "items_inverse_map = {val:i for i,val in enumerate(unique_items)}\n",
    "\n",
    "# Level Mappings\n",
    "levels_map= {'Beginner':0, 'Advanced':1, 'Intermediate':2}"
   ]
  },
  {
   "cell_type": "code",
   "execution_count": 331,
   "id": "b85646c7-bbbd-4c6c-9866-8d715ce57107",
   "metadata": {},
   "outputs": [],
   "source": [
    "users['user_id_encoded'] = users['user_id'].map(users_inverse_map)\n",
    "users['item_id_encoded'] = users['item_id'].map(items_inverse_map)\n",
    "users['level_encoded'] = users['level'].map(levels_map)\n",
    "items['item_id_encoded'] = items['item_id'].map(items_inverse_map)"
   ]
  },
  {
   "cell_type": "markdown",
   "id": "fc6a9a82-aa44-4863-9a30-cbe1c7ba9cd7",
   "metadata": {},
   "source": [
    "### Create Features\n",
    "\n",
    "### Side Features\n",
    "\n",
    "- Let's additional side features to help improve the model. \n",
    "- First we can use the titles and convert into tfidf features."
   ]
  },
  {
   "cell_type": "code",
   "execution_count": 332,
   "id": "ccd3635b-3c68-4c48-881a-3a4c5ea9e0d9",
   "metadata": {},
   "outputs": [],
   "source": [
    "# TFIDF Features\n",
    "tfidf = TfidfVectorizer(max_features=25,stop_words='english')\n",
    "tfidf_hybrid = tfidf.fit_transform(ratings['item_id'])\n",
    "users['tfidf'] = tfidf_hybrid.toarray().tolist()"
   ]
  },
  {
   "cell_type": "code",
   "execution_count": 318,
   "id": "e98fb625-f9da-4edd-ba09-49a013f0f78f",
   "metadata": {},
   "outputs": [],
   "source": [
    "# Format vector\n",
    "users['tfidf'] = users['tfidf'].apply(lambda x: np.array(x))"
   ]
  },
  {
   "cell_type": "markdown",
   "id": "b92e787c-1de6-4b35-8258-722ef27f84c6",
   "metadata": {},
   "source": [
    "### Create Explicit Data"
   ]
  },
  {
   "cell_type": "code",
   "execution_count": 319,
   "id": "6115d9ed-c84b-4ae6-8362-ffef469b5692",
   "metadata": {},
   "outputs": [],
   "source": [
    "ratings = users.copy()\n",
    "ratings['rating'] = [np.random.randint(1,5) for i in range(ratings.shape[0])]"
   ]
  },
  {
   "cell_type": "markdown",
   "id": "cd1406a9-9f9a-46c1-a05f-8b925f37577e",
   "metadata": {},
   "source": [
    "### Train/Test Split"
   ]
  },
  {
   "cell_type": "code",
   "execution_count": 320,
   "id": "8fadded3-228c-4541-86b9-f4722506664a",
   "metadata": {},
   "outputs": [
    {
     "name": "stdout",
     "output_type": "stream",
     "text": [
      "Train Shape: (6045, 9) -- Test Shape: (1512, 9)\n"
     ]
    }
   ],
   "source": [
    "def split_train_test(data:pd.DataFrame, split_ratio:float) -> np.ndarray:\n",
    "    \"\"\" Split Train/Test Dataset\"\"\"\n",
    "    idx = int(np.ceil(len(ratings) * split_ratio))\n",
    "    train,test = data[:-idx], data[-idx:]\n",
    "    print(f'Train Shape: {train.shape} -- Test Shape: {test.shape}')\n",
    "    return train,test\n",
    "    \n",
    "train,test = split_train_test(ratings,split_ratio=0.20)"
   ]
  },
  {
   "cell_type": "markdown",
   "id": "8b964e78-17de-4818-94cd-98208b1c340a",
   "metadata": {},
   "source": [
    "_____\n",
    "## Deep-Hybrid Recommendation System\n"
   ]
  },
  {
   "cell_type": "code",
   "execution_count": 334,
   "id": "5a6e8387-b165-483d-8e8d-4bc2d0286dac",
   "metadata": {},
   "outputs": [],
   "source": [
    "%autoreload\n",
    "from recommenders.hybrid import HybridRecommender\n",
    "Hybrid = HybridRecommender(unique_users,\n",
    "                           unique_items,\n",
    "                           tfidf_features=train_tfidf,\n",
    "                           epochs=10, \n",
    "                           dense_units=100,\n",
    "                           dropout=0.20, \n",
    "                           batch_size=64,\n",
    "                           embedding_dim=25)"
   ]
  },
  {
   "cell_type": "code",
   "execution_count": 349,
   "id": "c083efb6-a15f-42cb-98a8-7d2925c3ed87",
   "metadata": {},
   "outputs": [
    {
     "name": "stdout",
     "output_type": "stream",
     "text": [
      "Epoch 1/10\n",
      "85/85 [==============================] - 2s 8ms/step - loss: 4.0046 - val_loss: 2.2203\n",
      "Epoch 2/10\n",
      "85/85 [==============================] - 0s 4ms/step - loss: 1.8927 - val_loss: 1.7613\n",
      "Epoch 3/10\n",
      "85/85 [==============================] - 1s 7ms/step - loss: 1.1399 - val_loss: 1.5801\n",
      "Epoch 4/10\n",
      "85/85 [==============================] - 0s 4ms/step - loss: 0.7925 - val_loss: 1.4825\n",
      "Epoch 5/10\n",
      "85/85 [==============================] - 0s 5ms/step - loss: 0.6447 - val_loss: 1.4190\n",
      "Epoch 6/10\n",
      "85/85 [==============================] - 0s 5ms/step - loss: 0.5702 - val_loss: 1.3779\n",
      "Epoch 7/10\n",
      "85/85 [==============================] - 0s 4ms/step - loss: 0.5125 - val_loss: 1.3448\n",
      "Epoch 8/10\n",
      "85/85 [==============================] - 0s 6ms/step - loss: 0.4773 - val_loss: 1.3238\n",
      "Epoch 9/10\n",
      "85/85 [==============================] - 0s 4ms/step - loss: 0.4592 - val_loss: 1.3106\n",
      "Epoch 10/10\n",
      "85/85 [==============================] - 0s 4ms/step - loss: 0.4332 - val_loss: 1.2922\n",
      "189/189 [==============================] - 0s 2ms/step - loss: 0.4481\n"
     ]
    },
    {
     "name": "stderr",
     "output_type": "stream",
     "text": [
      "2021-08-01 19:08:01,069 - recommenders.hybrid INFO - train mean squared error: 0.4481\n"
     ]
    }
   ],
   "source": [
    "%autoreload\n",
    "history = Hybrid.train([train['user_id_encoded'],\n",
    "                        train['item_id_encoded'],\n",
    "                        np.stack(train['tfidf'],axis=0),\n",
    "                        train['level_encoded']],\n",
    "                        train['rating'])\n",
    "model = Hybrid.model"
   ]
  },
  {
   "cell_type": "markdown",
   "id": "593e47e8-a481-43e7-9f1f-68173c0ce388",
   "metadata": {},
   "source": [
    "### Evaluate Model"
   ]
  },
  {
   "cell_type": "code",
   "execution_count": 350,
   "id": "bdbf5571-dcbc-40d1-a1d5-44194309bc42",
   "metadata": {},
   "outputs": [
    {
     "name": "stdout",
     "output_type": "stream",
     "text": [
      "48/48 [==============================] - 0s 3ms/step - loss: 1.3178\n"
     ]
    },
    {
     "name": "stderr",
     "output_type": "stream",
     "text": [
      "2021-08-01 19:08:15,147 - recommenders.hybrid INFO - test mean squared error: 1.3178\n"
     ]
    }
   ],
   "source": [
    "Hybrid._evaluate([test['user_id_encoded'],\n",
    "                  test['item_id_encoded'], \n",
    "                  test_tfidf.toarray(),\n",
    "                  test_levels], \n",
    "                  test['rating'],\n",
    "                  name='test')"
   ]
  },
  {
   "cell_type": "markdown",
   "id": "72094818-0655-46ac-ab44-f8be2f6c3fa5",
   "metadata": {},
   "source": [
    "### Model Summary"
   ]
  },
  {
   "cell_type": "code",
   "execution_count": 351,
   "id": "4ffc04cf-a134-4f7c-86d2-5d8070f009a4",
   "metadata": {},
   "outputs": [
    {
     "name": "stdout",
     "output_type": "stream",
     "text": [
      "Model: \"model_11\"\n",
      "__________________________________________________________________________________________________\n",
      "Layer (type)                    Output Shape         Param #     Connected to                     \n",
      "==================================================================================================\n",
      "item (InputLayer)               [(None, 1)]          0                                            \n",
      "__________________________________________________________________________________________________\n",
      "user (InputLayer)               [(None, 1)]          0                                            \n",
      "__________________________________________________________________________________________________\n",
      "item_embedding (Embedding)      (None, 1, 25)        148550      item[0][0]                       \n",
      "__________________________________________________________________________________________________\n",
      "user_embedding (Embedding)      (None, 1, 25)        9825        user[0][0]                       \n",
      "__________________________________________________________________________________________________\n",
      "reshape_23 (Reshape)            (None, 25)           0           item_embedding[0][0]             \n",
      "__________________________________________________________________________________________________\n",
      "tfidf (InputLayer)              [(None, 25)]         0                                            \n",
      "__________________________________________________________________________________________________\n",
      "item_meta_feature (InputLayer)  [(None, 1)]          0                                            \n",
      "__________________________________________________________________________________________________\n",
      "reshape_22 (Reshape)            (None, 25)           0           user_embedding[0][0]             \n",
      "__________________________________________________________________________________________________\n",
      "dense_81 (Dense)                (None, 64)           1664        reshape_23[0][0]                 \n",
      "__________________________________________________________________________________________________\n",
      "dense_78 (Dense)                (None, 64)           1664        tfidf[0][0]                      \n",
      "__________________________________________________________________________________________________\n",
      "dense_79 (Dense)                (None, 64)           128         item_meta_feature[0][0]          \n",
      "__________________________________________________________________________________________________\n",
      "dense_80 (Dense)                (None, 64)           1664        reshape_22[0][0]                 \n",
      "__________________________________________________________________________________________________\n",
      "concatenate_12 (Concatenate)    (None, 192)          0           dense_81[0][0]                   \n",
      "                                                                 dense_78[0][0]                   \n",
      "                                                                 dense_79[0][0]                   \n",
      "__________________________________________________________________________________________________\n",
      "user_items (Concatenate)        (None, 256)          0           dense_80[0][0]                   \n",
      "                                                                 concatenate_12[0][0]             \n",
      "__________________________________________________________________________________________________\n",
      "dense_82 (Dense)                (None, 100)          25700       user_items[0][0]                 \n",
      "__________________________________________________________________________________________________\n",
      "dropout_11 (Dropout)            (None, 100)          0           dense_82[0][0]                   \n",
      "__________________________________________________________________________________________________\n",
      "dense_83 (Dense)                (None, 100)          10100       dropout_11[0][0]                 \n",
      "__________________________________________________________________________________________________\n",
      "dense_84 (Dense)                (None, 1)            101         dense_83[0][0]                   \n",
      "==================================================================================================\n",
      "Total params: 199,396\n",
      "Trainable params: 199,396\n",
      "Non-trainable params: 0\n",
      "__________________________________________________________________________________________________\n"
     ]
    }
   ],
   "source": [
    "model.summary()"
   ]
  },
  {
   "cell_type": "code",
   "execution_count": 352,
   "id": "f90ae621-0d83-4c99-a8f3-09852a938f7d",
   "metadata": {},
   "outputs": [
    {
     "name": "stderr",
     "output_type": "stream",
     "text": [
      "/Users/tracesmith/Desktop/Trace/Coding/user-recommender/recommenders/utils/plots.py:22: MatplotlibDeprecationWarning: Passing non-integers as three-element position specification is deprecated since 3.3 and will be removed two minor releases later.\n",
      "  ax = fig.add_subplot(n_rows, n_cols, idx + 1)\n"
     ]
    },
    {
     "data": {
      "image/png": "[encoded data removed]",
      "text/plain": [
       "<Figure size 1152x396 with 1 Axes>"
      ]
     },
     "metadata": {
      "needs_background": "light"
     },
     "output_type": "display_data"
    }
   ],
   "source": [
    "# %autoreload\n",
    "plot_metrics(history,metrics=['loss'])"
   ]
  },
  {
   "cell_type": "code",
   "execution_count": 212,
   "id": "715269ea-4457-4ea2-9369-2b02ecccafec",
   "metadata": {},
   "outputs": [],
   "source": [
    "def get_recommendations(user_id:int,\n",
    "    items:List[int],\n",
    "    items_lookup:dict, \n",
    "    levels_lookup:dict,\n",
    "    tfidf:np.ndarray,\n",
    "    model:tf.keras.models.Model,\n",
    "    topk:int=None):\n",
    "    \"\"\"\n",
    "    Predict Ratings for given input user and return top recommended items \n",
    "    \"\"\"\n",
    "    user = np.array([user_id])\n",
    "    predictions=[]\n",
    "    for i in tqdm(items):\n",
    "        item = np.array([i])\n",
    "        level = np.array([i])\n",
    "        tfidf_features = np.array([tfidf.transform([str(items_lookup[i])]).toarray().reshape(-1,1)])\n",
    "        predictions.extend(model.predict([user,item,tfidf_features,level]).ravel())\n",
    "    #generate rankings\n",
    "    mappings = [items_lookup[i] for i in np.argsort(predictions)[:topk]]\n",
    "    return mappings"
   ]
  }
 ],
 "metadata": {
  "kernelspec": {
   "display_name": "pluaral",
   "language": "python",
   "name": "pluaral"
  },
  "language_info": {
   "codemirror_mode": {
    "name": "ipython",
    "version": 3
   },
   "file_extension": ".py",
   "mimetype": "text/x-python",
   "name": "python",
   "nbconvert_exporter": "python",
   "pygments_lexer": "ipython3",
   "version": "3.8.1"
  }
 },
 "nbformat": 4,
 "nbformat_minor": 5
}
